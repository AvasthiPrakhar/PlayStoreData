{
 "cells": [
  {
   "cell_type": "code",
   "execution_count": 1,
   "id": "7004ec41",
   "metadata": {},
   "outputs": [],
   "source": [
    "import numpy as np\n",
    "import pandas as pd\n",
    "import matplotlib.pyplot as plt\n",
    "import seaborn as sns\n",
    "from scipy import stats"
   ]
  },
  {
   "cell_type": "code",
   "execution_count": 2,
   "id": "51803858",
   "metadata": {},
   "outputs": [],
   "source": [
    "psdata_cleaned=pd.read_csv('psdata_cleaned.csv')"
   ]
  },
  {
   "cell_type": "code",
   "execution_count": 199,
   "id": "dc5fee88",
   "metadata": {},
   "outputs": [
    {
     "data": {
      "text/html": [
       "<div>\n",
       "<style scoped>\n",
       "    .dataframe tbody tr th:only-of-type {\n",
       "        vertical-align: middle;\n",
       "    }\n",
       "\n",
       "    .dataframe tbody tr th {\n",
       "        vertical-align: top;\n",
       "    }\n",
       "\n",
       "    .dataframe thead th {\n",
       "        text-align: right;\n",
       "    }\n",
       "</style>\n",
       "<table border=\"1\" class=\"dataframe\">\n",
       "  <thead>\n",
       "    <tr style=\"text-align: right;\">\n",
       "      <th></th>\n",
       "      <th>App Name</th>\n",
       "      <th>App Id</th>\n",
       "      <th>Category</th>\n",
       "      <th>Rating</th>\n",
       "      <th>Rating Count</th>\n",
       "      <th>Installs</th>\n",
       "      <th>Minimum Installs</th>\n",
       "      <th>Maximum Installs</th>\n",
       "      <th>Free</th>\n",
       "      <th>Price</th>\n",
       "      <th>...</th>\n",
       "      <th>Released</th>\n",
       "      <th>Last Updated</th>\n",
       "      <th>Content Rating</th>\n",
       "      <th>Privacy Policy</th>\n",
       "      <th>Ad Supported</th>\n",
       "      <th>In App Purchases</th>\n",
       "      <th>Editors Choice</th>\n",
       "      <th>Scraped Time</th>\n",
       "      <th>period_after_release</th>\n",
       "      <th>period_after_update</th>\n",
       "    </tr>\n",
       "  </thead>\n",
       "  <tbody>\n",
       "    <tr>\n",
       "      <th>0</th>\n",
       "      <td>Gakondo</td>\n",
       "      <td>com.ishakwe.gakondo</td>\n",
       "      <td>Adventure</td>\n",
       "      <td>0.0</td>\n",
       "      <td>0.0</td>\n",
       "      <td>10</td>\n",
       "      <td>10.0</td>\n",
       "      <td>15</td>\n",
       "      <td>True</td>\n",
       "      <td>0.0</td>\n",
       "      <td>...</td>\n",
       "      <td>2020-02-26</td>\n",
       "      <td>2020-02-26</td>\n",
       "      <td>Everyone</td>\n",
       "      <td>https://beniyizibyose.tk/projects/</td>\n",
       "      <td>False</td>\n",
       "      <td>False</td>\n",
       "      <td>False</td>\n",
       "      <td>2021-06-15</td>\n",
       "      <td>475 days</td>\n",
       "      <td>475 days</td>\n",
       "    </tr>\n",
       "    <tr>\n",
       "      <th>1</th>\n",
       "      <td>Ampere Battery Info</td>\n",
       "      <td>com.webserveis.batteryinfo</td>\n",
       "      <td>Tools</td>\n",
       "      <td>4.4</td>\n",
       "      <td>64.0</td>\n",
       "      <td>5000</td>\n",
       "      <td>5000.0</td>\n",
       "      <td>7662</td>\n",
       "      <td>True</td>\n",
       "      <td>0.0</td>\n",
       "      <td>...</td>\n",
       "      <td>2020-05-21</td>\n",
       "      <td>2021-05-06</td>\n",
       "      <td>Everyone</td>\n",
       "      <td>https://dev4phones.wordpress.com/licencia-de-uso/</td>\n",
       "      <td>True</td>\n",
       "      <td>False</td>\n",
       "      <td>False</td>\n",
       "      <td>2021-06-15</td>\n",
       "      <td>390 days</td>\n",
       "      <td>40 days</td>\n",
       "    </tr>\n",
       "    <tr>\n",
       "      <th>2</th>\n",
       "      <td>Vibook</td>\n",
       "      <td>com.doantiepvien.crm</td>\n",
       "      <td>Productivity</td>\n",
       "      <td>0.0</td>\n",
       "      <td>0.0</td>\n",
       "      <td>50</td>\n",
       "      <td>50.0</td>\n",
       "      <td>58</td>\n",
       "      <td>True</td>\n",
       "      <td>0.0</td>\n",
       "      <td>...</td>\n",
       "      <td>2019-08-09</td>\n",
       "      <td>2019-08-19</td>\n",
       "      <td>Everyone</td>\n",
       "      <td>https://www.vietnamairlines.com/vn/en/terms-an...</td>\n",
       "      <td>False</td>\n",
       "      <td>False</td>\n",
       "      <td>False</td>\n",
       "      <td>2021-06-15</td>\n",
       "      <td>676 days</td>\n",
       "      <td>666 days</td>\n",
       "    </tr>\n",
       "    <tr>\n",
       "      <th>3</th>\n",
       "      <td>Smart City Trichy Public Service Vehicles 17UC...</td>\n",
       "      <td>cst.stJoseph.ug17ucs548</td>\n",
       "      <td>Communication</td>\n",
       "      <td>5.0</td>\n",
       "      <td>5.0</td>\n",
       "      <td>10</td>\n",
       "      <td>10.0</td>\n",
       "      <td>19</td>\n",
       "      <td>True</td>\n",
       "      <td>0.0</td>\n",
       "      <td>...</td>\n",
       "      <td>2018-09-10</td>\n",
       "      <td>2018-10-13</td>\n",
       "      <td>Everyone</td>\n",
       "      <td>NaN</td>\n",
       "      <td>True</td>\n",
       "      <td>False</td>\n",
       "      <td>False</td>\n",
       "      <td>2021-06-15</td>\n",
       "      <td>1009 days</td>\n",
       "      <td>976 days</td>\n",
       "    </tr>\n",
       "    <tr>\n",
       "      <th>4</th>\n",
       "      <td>GROW.me</td>\n",
       "      <td>com.horodyski.grower</td>\n",
       "      <td>Tools</td>\n",
       "      <td>0.0</td>\n",
       "      <td>0.0</td>\n",
       "      <td>100</td>\n",
       "      <td>100.0</td>\n",
       "      <td>478</td>\n",
       "      <td>True</td>\n",
       "      <td>0.0</td>\n",
       "      <td>...</td>\n",
       "      <td>2020-02-21</td>\n",
       "      <td>2018-11-12</td>\n",
       "      <td>Everyone</td>\n",
       "      <td>http://www.horodyski.com.pl</td>\n",
       "      <td>False</td>\n",
       "      <td>False</td>\n",
       "      <td>False</td>\n",
       "      <td>2021-06-15</td>\n",
       "      <td>480 days</td>\n",
       "      <td>946 days</td>\n",
       "    </tr>\n",
       "  </tbody>\n",
       "</table>\n",
       "<p>5 rows × 26 columns</p>\n",
       "</div>"
      ],
      "text/plain": [
       "                                            App Name  \\\n",
       "0                                            Gakondo   \n",
       "1                                Ampere Battery Info   \n",
       "2                                             Vibook   \n",
       "3  Smart City Trichy Public Service Vehicles 17UC...   \n",
       "4                                            GROW.me   \n",
       "\n",
       "                       App Id       Category  Rating  Rating Count  Installs  \\\n",
       "0         com.ishakwe.gakondo      Adventure     0.0           0.0        10   \n",
       "1  com.webserveis.batteryinfo          Tools     4.4          64.0      5000   \n",
       "2        com.doantiepvien.crm   Productivity     0.0           0.0        50   \n",
       "3     cst.stJoseph.ug17ucs548  Communication     5.0           5.0        10   \n",
       "4        com.horodyski.grower          Tools     0.0           0.0       100   \n",
       "\n",
       "   Minimum Installs  Maximum Installs  Free  Price  ...    Released  \\\n",
       "0              10.0                15  True    0.0  ...  2020-02-26   \n",
       "1            5000.0              7662  True    0.0  ...  2020-05-21   \n",
       "2              50.0                58  True    0.0  ...  2019-08-09   \n",
       "3              10.0                19  True    0.0  ...  2018-09-10   \n",
       "4             100.0               478  True    0.0  ...  2020-02-21   \n",
       "\n",
       "  Last Updated Content Rating  \\\n",
       "0   2020-02-26       Everyone   \n",
       "1   2021-05-06       Everyone   \n",
       "2   2019-08-19       Everyone   \n",
       "3   2018-10-13       Everyone   \n",
       "4   2018-11-12       Everyone   \n",
       "\n",
       "                                      Privacy Policy Ad Supported  \\\n",
       "0                 https://beniyizibyose.tk/projects/        False   \n",
       "1  https://dev4phones.wordpress.com/licencia-de-uso/         True   \n",
       "2  https://www.vietnamairlines.com/vn/en/terms-an...        False   \n",
       "3                                                NaN         True   \n",
       "4                        http://www.horodyski.com.pl        False   \n",
       "\n",
       "  In App Purchases Editors Choice Scraped Time period_after_release  \\\n",
       "0            False          False   2021-06-15             475 days   \n",
       "1            False          False   2021-06-15             390 days   \n",
       "2            False          False   2021-06-15             676 days   \n",
       "3            False          False   2021-06-15            1009 days   \n",
       "4            False          False   2021-06-15             480 days   \n",
       "\n",
       "  period_after_update  \n",
       "0            475 days  \n",
       "1             40 days  \n",
       "2            666 days  \n",
       "3            976 days  \n",
       "4            946 days  \n",
       "\n",
       "[5 rows x 26 columns]"
      ]
     },
     "execution_count": 199,
     "metadata": {},
     "output_type": "execute_result"
    }
   ],
   "source": [
    "psdata_cleaned.head(5)"
   ]
  },
  {
   "cell_type": "code",
   "execution_count": 4,
   "id": "82b92e13",
   "metadata": {
    "scrolled": false
   },
   "outputs": [
    {
     "name": "stdout",
     "output_type": "stream",
     "text": [
      "<class 'pandas.core.frame.DataFrame'>\n",
      "RangeIndex: 2235250 entries, 0 to 2235249\n",
      "Data columns (total 26 columns):\n",
      " #   Column                Dtype  \n",
      "---  ------                -----  \n",
      " 0   App Name              object \n",
      " 1   App Id                object \n",
      " 2   Category              object \n",
      " 3   Rating                float64\n",
      " 4   Rating Count          float64\n",
      " 5   Installs              int64  \n",
      " 6   Minimum Installs      float64\n",
      " 7   Maximum Installs      int64  \n",
      " 8   Free                  bool   \n",
      " 9   Price                 float64\n",
      " 10  Currency              object \n",
      " 11  Size                  object \n",
      " 12  Minimum Android       object \n",
      " 13  Developer Id          object \n",
      " 14  Developer Website     object \n",
      " 15  Developer Email       object \n",
      " 16  Released              object \n",
      " 17  Last Updated          object \n",
      " 18  Content Rating        object \n",
      " 19  Privacy Policy        object \n",
      " 20  Ad Supported          bool   \n",
      " 21  In App Purchases      bool   \n",
      " 22  Editors Choice        bool   \n",
      " 23  Scraped Time          object \n",
      " 24  period_after_release  object \n",
      " 25  period_after_update   object \n",
      "dtypes: bool(4), float64(4), int64(2), object(16)\n",
      "memory usage: 383.7+ MB\n"
     ]
    }
   ],
   "source": [
    "psdata_cleaned.info()"
   ]
  },
  {
   "cell_type": "code",
   "execution_count": 5,
   "id": "c33ef17f",
   "metadata": {},
   "outputs": [
    {
     "data": {
      "text/html": [
       "<div>\n",
       "<style scoped>\n",
       "    .dataframe tbody tr th:only-of-type {\n",
       "        vertical-align: middle;\n",
       "    }\n",
       "\n",
       "    .dataframe tbody tr th {\n",
       "        vertical-align: top;\n",
       "    }\n",
       "\n",
       "    .dataframe thead th {\n",
       "        text-align: right;\n",
       "    }\n",
       "</style>\n",
       "<table border=\"1\" class=\"dataframe\">\n",
       "  <thead>\n",
       "    <tr style=\"text-align: right;\">\n",
       "      <th></th>\n",
       "      <th>Rating</th>\n",
       "      <th>Rating Count</th>\n",
       "      <th>Installs</th>\n",
       "      <th>Minimum Installs</th>\n",
       "      <th>Maximum Installs</th>\n",
       "      <th>Price</th>\n",
       "    </tr>\n",
       "  </thead>\n",
       "  <tbody>\n",
       "    <tr>\n",
       "      <th>count</th>\n",
       "      <td>2.235250e+06</td>\n",
       "      <td>2.235250e+06</td>\n",
       "      <td>2.235250e+06</td>\n",
       "      <td>2.235250e+06</td>\n",
       "      <td>2.235250e+06</td>\n",
       "      <td>2.235250e+06</td>\n",
       "    </tr>\n",
       "    <tr>\n",
       "      <th>mean</th>\n",
       "      <td>2.206439e+00</td>\n",
       "      <td>2.759943e+03</td>\n",
       "      <td>1.760321e+05</td>\n",
       "      <td>1.760321e+05</td>\n",
       "      <td>3.081229e+05</td>\n",
       "      <td>1.047681e-01</td>\n",
       "    </tr>\n",
       "    <tr>\n",
       "      <th>std</th>\n",
       "      <td>2.108363e+00</td>\n",
       "      <td>1.987608e+05</td>\n",
       "      <td>1.420412e+07</td>\n",
       "      <td>1.420412e+07</td>\n",
       "      <td>2.208894e+07</td>\n",
       "      <td>2.660939e+00</td>\n",
       "    </tr>\n",
       "    <tr>\n",
       "      <th>min</th>\n",
       "      <td>0.000000e+00</td>\n",
       "      <td>0.000000e+00</td>\n",
       "      <td>0.000000e+00</td>\n",
       "      <td>0.000000e+00</td>\n",
       "      <td>0.000000e+00</td>\n",
       "      <td>0.000000e+00</td>\n",
       "    </tr>\n",
       "    <tr>\n",
       "      <th>25%</th>\n",
       "      <td>0.000000e+00</td>\n",
       "      <td>0.000000e+00</td>\n",
       "      <td>5.000000e+01</td>\n",
       "      <td>5.000000e+01</td>\n",
       "      <td>8.600000e+01</td>\n",
       "      <td>0.000000e+00</td>\n",
       "    </tr>\n",
       "    <tr>\n",
       "      <th>50%</th>\n",
       "      <td>3.000000e+00</td>\n",
       "      <td>6.000000e+00</td>\n",
       "      <td>5.000000e+02</td>\n",
       "      <td>5.000000e+02</td>\n",
       "      <td>7.060000e+02</td>\n",
       "      <td>0.000000e+00</td>\n",
       "    </tr>\n",
       "    <tr>\n",
       "      <th>75%</th>\n",
       "      <td>4.300000e+00</td>\n",
       "      <td>4.200000e+01</td>\n",
       "      <td>5.000000e+03</td>\n",
       "      <td>5.000000e+03</td>\n",
       "      <td>7.427000e+03</td>\n",
       "      <td>0.000000e+00</td>\n",
       "    </tr>\n",
       "    <tr>\n",
       "      <th>max</th>\n",
       "      <td>5.000000e+00</td>\n",
       "      <td>1.385576e+08</td>\n",
       "      <td>1.000000e+10</td>\n",
       "      <td>1.000000e+10</td>\n",
       "      <td>1.205763e+10</td>\n",
       "      <td>4.000000e+02</td>\n",
       "    </tr>\n",
       "  </tbody>\n",
       "</table>\n",
       "</div>"
      ],
      "text/plain": [
       "             Rating  Rating Count      Installs  Minimum Installs  \\\n",
       "count  2.235250e+06  2.235250e+06  2.235250e+06      2.235250e+06   \n",
       "mean   2.206439e+00  2.759943e+03  1.760321e+05      1.760321e+05   \n",
       "std    2.108363e+00  1.987608e+05  1.420412e+07      1.420412e+07   \n",
       "min    0.000000e+00  0.000000e+00  0.000000e+00      0.000000e+00   \n",
       "25%    0.000000e+00  0.000000e+00  5.000000e+01      5.000000e+01   \n",
       "50%    3.000000e+00  6.000000e+00  5.000000e+02      5.000000e+02   \n",
       "75%    4.300000e+00  4.200000e+01  5.000000e+03      5.000000e+03   \n",
       "max    5.000000e+00  1.385576e+08  1.000000e+10      1.000000e+10   \n",
       "\n",
       "       Maximum Installs         Price  \n",
       "count      2.235250e+06  2.235250e+06  \n",
       "mean       3.081229e+05  1.047681e-01  \n",
       "std        2.208894e+07  2.660939e+00  \n",
       "min        0.000000e+00  0.000000e+00  \n",
       "25%        8.600000e+01  0.000000e+00  \n",
       "50%        7.060000e+02  0.000000e+00  \n",
       "75%        7.427000e+03  0.000000e+00  \n",
       "max        1.205763e+10  4.000000e+02  "
      ]
     },
     "execution_count": 5,
     "metadata": {},
     "output_type": "execute_result"
    }
   ],
   "source": [
    "psdata_cleaned.describe()"
   ]
  },
  {
   "cell_type": "markdown",
   "id": "edaba1af",
   "metadata": {},
   "source": [
    "### Filtering data with repect to currency\n"
   ]
  },
  {
   "cell_type": "code",
   "execution_count": 6,
   "id": "baaf7818",
   "metadata": {},
   "outputs": [
    {
     "data": {
      "text/plain": [
       "Currency\n",
       "USD    100.0\n",
       "Name: count, dtype: float64"
      ]
     },
     "execution_count": 6,
     "metadata": {},
     "output_type": "execute_result"
    }
   ],
   "source": [
    "100 * psdata_cleaned.Currency.value_counts()/len(psdata_cleaned)"
   ]
  },
  {
   "cell_type": "markdown",
   "id": "86f8b7bb",
   "metadata": {},
   "source": [
    "- #### 100% of the cleaned data has'USD' as currency"
   ]
  },
  {
   "cell_type": "markdown",
   "id": "51b2a5d4",
   "metadata": {},
   "source": [
    "### Distribution of Categories (percentage):"
   ]
  },
  {
   "cell_type": "code",
   "execution_count": 7,
   "id": "b76a2a03",
   "metadata": {},
   "outputs": [],
   "source": [
    "#def Distributions(column_name,plottype) :\n",
    "    \n",
    "    \n",
    "    \n",
    "def Distributions(column_name,plottype,bins='auto') :\n",
    "    \n",
    "    print(\"-Distribution ( % )-\")\n",
    "    \n",
    "    print(100 * psdata_cleaned[column_name].value_counts()/len(psdata_cleaned))\n",
    "    \n",
    "    print(\"-----------------------------------------------------------------------------------------\")\n",
    "    \n",
    "    print(\"-Plot-\")\n",
    "    \n",
    "    if(plottype=='hist'):\n",
    "        \n",
    "        sns.histplot(psdata_cleaned[column_name],bins=bins)\n",
    "        \n",
    "    else :\n",
    "        sns.barplot(x=psdata_cleaned[column_name].value_counts().index,y=psdata_cleaned[column_name].value_counts())\n",
    "        \n",
    "    plt.xticks(rotation =90)\n",
    "    \n",
    "    plt.show()\n",
    "    \n",
    "    print(\"-----------------------------------------------------------------------------------------\")\n",
    "    \n",
    "    print(\"-Summary-\")\n",
    "    \n",
    "    print(psdata_cleaned[column_name].describe())\n",
    "    \n"
   ]
  },
  {
   "cell_type": "code",
   "execution_count": 8,
   "id": "af4d0064",
   "metadata": {},
   "outputs": [
    {
     "name": "stdout",
     "output_type": "stream",
     "text": [
      "-Distribution ( % )-\n",
      "Category\n",
      "Education                  10.539090\n",
      "Music & Audio               6.855609\n",
      "Tools                       6.161369\n",
      "Business                    6.086120\n",
      "Entertainment               6.047288\n",
      "Books & Reference           5.162420\n",
      "Lifestyle                   5.152086\n",
      "Personalization             3.965149\n",
      "Health & Fitness            3.599642\n",
      "Productivity                3.349961\n",
      "Shopping                    3.196555\n",
      "Food & Drink                3.170652\n",
      "Travel & Local              2.894844\n",
      "Finance                     2.768191\n",
      "Arcade                      2.336204\n",
      "Puzzle                      2.224762\n",
      "Casual                      2.177340\n",
      "Communication               2.056459\n",
      "Sports                      2.043396\n",
      "Social                      1.925422\n",
      "News & Magazines            1.868963\n",
      "Photography                 1.570697\n",
      "Medical                     1.340969\n",
      "Action                      1.184879\n",
      "Maps & Navigation           1.117012\n",
      "Adventure                   1.004854\n",
      "Simulation                  1.002080\n",
      "Educational                 0.923163\n",
      "Art & Design                0.815927\n",
      "Auto & Vehicles             0.755128\n",
      "Video Players & Editors     0.612773\n",
      "House & Home                0.610088\n",
      "Events                      0.552287\n",
      "Trivia                      0.514081\n",
      "Beauty                      0.511084\n",
      "Board                       0.461470\n",
      "Racing                      0.452701\n",
      "Role Playing                0.409440\n",
      "Word                        0.375126\n",
      "Strategy                    0.359647\n",
      "Card                        0.353204\n",
      "Weather                     0.310256\n",
      "Dating                      0.281803\n",
      "Casino                      0.219528\n",
      "Libraries & Demo            0.213757\n",
      "Music                       0.182709\n",
      "Parenting                   0.160251\n",
      "Comics                      0.123566\n",
      "Name: count, dtype: float64\n",
      "-----------------------------------------------------------------------------------------\n",
      "-Plot-\n"
     ]
    },
    {
     "data": {
      "image/png": "[encoded data removed]",
      "text/plain": [
       "<Figure size 640x480 with 1 Axes>"
      ]
     },
     "metadata": {},
     "output_type": "display_data"
    },
    {
     "name": "stdout",
     "output_type": "stream",
     "text": [
      "-----------------------------------------------------------------------------------------\n",
      "-Summary-\n",
      "count       2235250\n",
      "unique           48\n",
      "top       Education\n",
      "freq         235575\n",
      "Name: Category, dtype: object\n"
     ]
    }
   ],
   "source": [
    "Distributions('Category','bar')"
   ]
  },
  {
   "cell_type": "markdown",
   "id": "6ef4ee17",
   "metadata": {},
   "source": [
    "### Distribution of ratings (percentage) :"
   ]
  },
  {
   "cell_type": "code",
   "execution_count": 9,
   "id": "060c2c4b",
   "metadata": {},
   "outputs": [
    {
     "name": "stdout",
     "output_type": "stream",
     "text": [
      "-Distribution ( % )-\n",
      "Rating\n",
      "0.0    46.275584\n",
      "5.0     4.399418\n",
      "4.2     3.854737\n",
      "4.4     3.789241\n",
      "4.3     3.651404\n",
      "4.6     3.438631\n",
      "4.5     3.368259\n",
      "4.1     3.048921\n",
      "4.0     2.945577\n",
      "4.7     2.736428\n",
      "4.8     2.687171\n",
      "3.9     2.431898\n",
      "3.8     2.352131\n",
      "4.9     1.959333\n",
      "3.7     1.884845\n",
      "3.6     1.562957\n",
      "3.5     1.372464\n",
      "3.4     1.254043\n",
      "3.3     0.977922\n",
      "3.2     0.926831\n",
      "3.0     0.743541\n",
      "3.1     0.669276\n",
      "2.8     0.522760\n",
      "2.9     0.493904\n",
      "2.6     0.393916\n",
      "2.7     0.392439\n",
      "2.5     0.294687\n",
      "2.4     0.256481\n",
      "2.3     0.229460\n",
      "2.2     0.209462\n",
      "2.0     0.160966\n",
      "2.1     0.153987\n",
      "1.8     0.124908\n",
      "1.9     0.107773\n",
      "1.7     0.081288\n",
      "1.6     0.068449\n",
      "1.5     0.048764\n",
      "1.4     0.042009\n",
      "1.0     0.030735\n",
      "1.3     0.024606\n",
      "1.2     0.022727\n",
      "1.1     0.010066\n",
      "Name: count, dtype: float64\n",
      "-----------------------------------------------------------------------------------------\n",
      "-Plot-\n"
     ]
    },
    {
     "data": {
      "image/png": "[encoded data removed]",
      "text/plain": [
       "<Figure size 640x480 with 1 Axes>"
      ]
     },
     "metadata": {},
     "output_type": "display_data"
    },
    {
     "name": "stdout",
     "output_type": "stream",
     "text": [
      "-----------------------------------------------------------------------------------------\n",
      "-Summary-\n",
      "count    2.235250e+06\n",
      "mean     2.206439e+00\n",
      "std      2.108363e+00\n",
      "min      0.000000e+00\n",
      "25%      0.000000e+00\n",
      "50%      3.000000e+00\n",
      "75%      4.300000e+00\n",
      "max      5.000000e+00\n",
      "Name: Rating, dtype: float64\n"
     ]
    }
   ],
   "source": [
    "Distributions('Rating','hist',10)"
   ]
  },
  {
   "cell_type": "markdown",
   "id": "2f9dfa32",
   "metadata": {},
   "source": [
    "- #### it seems 46.275584 % of the apps have a rating of 0"
   ]
  },
  {
   "cell_type": "code",
   "execution_count": 10,
   "id": "ebc00253",
   "metadata": {},
   "outputs": [
    {
     "data": {
      "text/plain": [
       "Rating Count\n",
       "0.0             100.0\n",
       "Name: count, dtype: float64"
      ]
     },
     "execution_count": 10,
     "metadata": {},
     "output_type": "execute_result"
    }
   ],
   "source": [
    "psdata_zero_ratings = psdata_cleaned[psdata_cleaned['Rating'] == 0.0]\n",
    "\n",
    "100 * psdata_zero_ratings[['Rating Count']].value_counts()/len(psdata_zero_ratings)"
   ]
  },
  {
   "cell_type": "markdown",
   "id": "92a58a52",
   "metadata": {},
   "source": [
    "- #### Out of all Apps with Rating 0.0, 100% (1034375 values) have Rating count of 0 ,that means, none of these has ever been rated till the date of scarapping"
   ]
  },
  {
   "cell_type": "markdown",
   "id": "6b8b43dd",
   "metadata": {},
   "source": [
    "### Probability of being rated at least once"
   ]
  },
  {
   "cell_type": "code",
   "execution_count": 11,
   "id": "d09d5267",
   "metadata": {},
   "outputs": [
    {
     "name": "stdout",
     "output_type": "stream",
     "text": [
      "Probability of being rated by atleast one user : 53.724416 %\n"
     ]
    }
   ],
   "source": [
    "print(f\"Probability of being rated by atleast one user : {100 - 46.275584} %\")"
   ]
  },
  {
   "cell_type": "markdown",
   "id": "cb0a6c01",
   "metadata": {},
   "source": [
    "## Insatallations :"
   ]
  },
  {
   "cell_type": "code",
   "execution_count": 12,
   "id": "06d2396d",
   "metadata": {},
   "outputs": [
    {
     "name": "stdout",
     "output_type": "stream",
     "text": [
      "-Distribution ( % )-\n",
      "Installs\n",
      "100            19.205413\n",
      "1000           17.302226\n",
      "10             12.867643\n",
      "10000          11.154860\n",
      "500             8.190806\n",
      "50              7.365440\n",
      "5000            6.240510\n",
      "100000          4.774857\n",
      "50000           3.273549\n",
      "5               3.131193\n",
      "1               2.766447\n",
      "1000000         1.452008\n",
      "500000          1.168952\n",
      "0               0.490907\n",
      "5000000         0.284353\n",
      "10000000        0.267174\n",
      "50000000        0.035611\n",
      "100000000       0.022414\n",
      "500000000       0.002729\n",
      "1000000000      0.002371\n",
      "5000000000      0.000492\n",
      "10000000000     0.000045\n",
      "Name: count, dtype: float64\n",
      "-----------------------------------------------------------------------------------------\n",
      "-Plot-\n"
     ]
    },
    {
     "data": {
      "image/png": "[encoded data removed]",
      "text/plain": [
       "<Figure size 640x480 with 1 Axes>"
      ]
     },
     "metadata": {},
     "output_type": "display_data"
    },
    {
     "name": "stdout",
     "output_type": "stream",
     "text": [
      "-----------------------------------------------------------------------------------------\n",
      "-Summary-\n",
      "count    2.235250e+06\n",
      "mean     1.760321e+05\n",
      "std      1.420412e+07\n",
      "min      0.000000e+00\n",
      "25%      5.000000e+01\n",
      "50%      5.000000e+02\n",
      "75%      5.000000e+03\n",
      "max      1.000000e+10\n",
      "Name: Installs, dtype: float64\n"
     ]
    }
   ],
   "source": [
    "Distributions('Installs','bar')"
   ]
  },
  {
   "cell_type": "markdown",
   "id": "b0c1615e",
   "metadata": {},
   "source": [
    "### Apps with 0 rating and 0 installations"
   ]
  },
  {
   "cell_type": "code",
   "execution_count": 13,
   "id": "d19e7f3c",
   "metadata": {},
   "outputs": [
    {
     "data": {
      "text/plain": [
       "10832"
      ]
     },
     "execution_count": 13,
     "metadata": {},
     "output_type": "execute_result"
    }
   ],
   "source": [
    "mask = (psdata_cleaned['Installs'] == 0) & (psdata_cleaned['Rating'] == 0)\n",
    "len(psdata_cleaned[mask])"
   ]
  },
  {
   "cell_type": "markdown",
   "id": "7aa22d23",
   "metadata": {},
   "source": [
    "#### Apps with 0 rating and 0 installations filtered by wheter app is Free or not Free"
   ]
  },
  {
   "cell_type": "code",
   "execution_count": 14,
   "id": "34c98202",
   "metadata": {},
   "outputs": [
    {
     "data": {
      "text/plain": [
       "Free \n",
       "True     9612\n",
       "False    1220\n",
       "Name: count, dtype: int64"
      ]
     },
     "execution_count": 14,
     "metadata": {},
     "output_type": "execute_result"
    }
   ],
   "source": [
    "psdata_cleaned[mask][['Free']].value_counts()"
   ]
  },
  {
   "cell_type": "markdown",
   "id": "7245cb6d",
   "metadata": {},
   "source": [
    "# Statistical Analysis"
   ]
  },
  {
   "cell_type": "markdown",
   "id": "4275bb17",
   "metadata": {},
   "source": [
    "## Analysis of Ratings "
   ]
  },
  {
   "cell_type": "code",
   "execution_count": 15,
   "id": "c38f42c9",
   "metadata": {},
   "outputs": [],
   "source": [
    "psdata_cleaned_rated=psdata_cleaned[~(psdata_cleaned['Rating']==0)]"
   ]
  },
  {
   "cell_type": "code",
   "execution_count": 16,
   "id": "4edfb309",
   "metadata": {},
   "outputs": [
    {
     "data": {
      "text/plain": [
       "120087"
      ]
     },
     "execution_count": 16,
     "metadata": {},
     "output_type": "execute_result"
    }
   ],
   "source": [
    "sample_size = int(len(psdata_cleaned_rated)*0.1)\n",
    "sample_size"
   ]
  },
  {
   "cell_type": "code",
   "execution_count": 17,
   "id": "728062dd",
   "metadata": {},
   "outputs": [],
   "source": [
    "psdata_sample = psdata_cleaned_rated.sample(n=sample_size,replace = True, random_state=42)"
   ]
  },
  {
   "cell_type": "code",
   "execution_count": 18,
   "id": "a5a855a3",
   "metadata": {
    "scrolled": true
   },
   "outputs": [
    {
     "data": {
      "text/html": [
       "<div>\n",
       "<style scoped>\n",
       "    .dataframe tbody tr th:only-of-type {\n",
       "        vertical-align: middle;\n",
       "    }\n",
       "\n",
       "    .dataframe tbody tr th {\n",
       "        vertical-align: top;\n",
       "    }\n",
       "\n",
       "    .dataframe thead th {\n",
       "        text-align: right;\n",
       "    }\n",
       "</style>\n",
       "<table border=\"1\" class=\"dataframe\">\n",
       "  <thead>\n",
       "    <tr style=\"text-align: right;\">\n",
       "      <th></th>\n",
       "      <th>Rating</th>\n",
       "      <th>Rating Count</th>\n",
       "      <th>Installs</th>\n",
       "      <th>Minimum Installs</th>\n",
       "      <th>Maximum Installs</th>\n",
       "      <th>Price</th>\n",
       "    </tr>\n",
       "  </thead>\n",
       "  <tbody>\n",
       "    <tr>\n",
       "      <th>count</th>\n",
       "      <td>120087.000000</td>\n",
       "      <td>1.200870e+05</td>\n",
       "      <td>1.200870e+05</td>\n",
       "      <td>1.200870e+05</td>\n",
       "      <td>1.200870e+05</td>\n",
       "      <td>120087.000000</td>\n",
       "    </tr>\n",
       "    <tr>\n",
       "      <th>mean</th>\n",
       "      <td>4.106250</td>\n",
       "      <td>5.946426e+03</td>\n",
       "      <td>3.661110e+05</td>\n",
       "      <td>3.661110e+05</td>\n",
       "      <td>6.345010e+05</td>\n",
       "      <td>0.087301</td>\n",
       "    </tr>\n",
       "    <tr>\n",
       "      <th>std</th>\n",
       "      <td>0.687937</td>\n",
       "      <td>4.197144e+05</td>\n",
       "      <td>1.757515e+07</td>\n",
       "      <td>1.757515e+07</td>\n",
       "      <td>2.584777e+07</td>\n",
       "      <td>1.194321</td>\n",
       "    </tr>\n",
       "    <tr>\n",
       "      <th>min</th>\n",
       "      <td>1.000000</td>\n",
       "      <td>5.000000e+00</td>\n",
       "      <td>0.000000e+00</td>\n",
       "      <td>0.000000e+00</td>\n",
       "      <td>0.000000e+00</td>\n",
       "      <td>0.000000</td>\n",
       "    </tr>\n",
       "    <tr>\n",
       "      <th>25%</th>\n",
       "      <td>3.800000</td>\n",
       "      <td>1.200000e+01</td>\n",
       "      <td>1.000000e+03</td>\n",
       "      <td>1.000000e+03</td>\n",
       "      <td>1.258000e+03</td>\n",
       "      <td>0.000000</td>\n",
       "    </tr>\n",
       "    <tr>\n",
       "      <th>50%</th>\n",
       "      <td>4.200000</td>\n",
       "      <td>3.400000e+01</td>\n",
       "      <td>5.000000e+03</td>\n",
       "      <td>5.000000e+03</td>\n",
       "      <td>5.514000e+03</td>\n",
       "      <td>0.000000</td>\n",
       "    </tr>\n",
       "    <tr>\n",
       "      <th>75%</th>\n",
       "      <td>4.600000</td>\n",
       "      <td>1.770000e+02</td>\n",
       "      <td>1.000000e+04</td>\n",
       "      <td>1.000000e+04</td>\n",
       "      <td>3.327450e+04</td>\n",
       "      <td>0.000000</td>\n",
       "    </tr>\n",
       "    <tr>\n",
       "      <th>max</th>\n",
       "      <td>5.000000</td>\n",
       "      <td>1.385576e+08</td>\n",
       "      <td>5.000000e+09</td>\n",
       "      <td>5.000000e+09</td>\n",
       "      <td>6.265638e+09</td>\n",
       "      <td>139.990000</td>\n",
       "    </tr>\n",
       "  </tbody>\n",
       "</table>\n",
       "</div>"
      ],
      "text/plain": [
       "              Rating  Rating Count      Installs  Minimum Installs  \\\n",
       "count  120087.000000  1.200870e+05  1.200870e+05      1.200870e+05   \n",
       "mean        4.106250  5.946426e+03  3.661110e+05      3.661110e+05   \n",
       "std         0.687937  4.197144e+05  1.757515e+07      1.757515e+07   \n",
       "min         1.000000  5.000000e+00  0.000000e+00      0.000000e+00   \n",
       "25%         3.800000  1.200000e+01  1.000000e+03      1.000000e+03   \n",
       "50%         4.200000  3.400000e+01  5.000000e+03      5.000000e+03   \n",
       "75%         4.600000  1.770000e+02  1.000000e+04      1.000000e+04   \n",
       "max         5.000000  1.385576e+08  5.000000e+09      5.000000e+09   \n",
       "\n",
       "       Maximum Installs          Price  \n",
       "count      1.200870e+05  120087.000000  \n",
       "mean       6.345010e+05       0.087301  \n",
       "std        2.584777e+07       1.194321  \n",
       "min        0.000000e+00       0.000000  \n",
       "25%        1.258000e+03       0.000000  \n",
       "50%        5.514000e+03       0.000000  \n",
       "75%        3.327450e+04       0.000000  \n",
       "max        6.265638e+09     139.990000  "
      ]
     },
     "execution_count": 18,
     "metadata": {},
     "output_type": "execute_result"
    }
   ],
   "source": [
    "psdata_sample.describe()"
   ]
  },
  {
   "cell_type": "markdown",
   "id": "4a64ceb4",
   "metadata": {},
   "source": [
    "#### Analysis of Rating "
   ]
  },
  {
   "cell_type": "code",
   "execution_count": 19,
   "id": "9d25b95c",
   "metadata": {},
   "outputs": [
    {
     "data": {
      "text/plain": [
       "4.106250468410402"
      ]
     },
     "execution_count": 19,
     "metadata": {},
     "output_type": "execute_result"
    }
   ],
   "source": [
    "sample_mean = psdata_sample[['Rating']].mean()\n",
    "sample_mean[0]"
   ]
  },
  {
   "cell_type": "code",
   "execution_count": 20,
   "id": "89e01be1",
   "metadata": {},
   "outputs": [
    {
     "data": {
      "text/plain": [
       "Rating    0.687937\n",
       "dtype: float64"
      ]
     },
     "execution_count": 20,
     "metadata": {},
     "output_type": "execute_result"
    }
   ],
   "source": [
    "psdata_sample[['Rating']].std()"
   ]
  },
  {
   "cell_type": "code",
   "execution_count": 21,
   "id": "2b00dbab",
   "metadata": {},
   "outputs": [
    {
     "name": "stdout",
     "output_type": "stream",
     "text": [
      "0.0019851826949112052\n"
     ]
    }
   ],
   "source": [
    "estimated_standard_error = psdata_sample[['Rating']].std()/ np.sqrt(sample_size)\n",
    "print(estimated_standard_error[0])"
   ]
  },
  {
   "cell_type": "code",
   "execution_count": 22,
   "id": "90d1fc18",
   "metadata": {},
   "outputs": [],
   "source": [
    "confidence_level = 0.99\n",
    "z_score=2.576"
   ]
  },
  {
   "cell_type": "code",
   "execution_count": 23,
   "id": "7d3d8989",
   "metadata": {},
   "outputs": [
    {
     "data": {
      "text/plain": [
       "0.0051138306220912646"
      ]
     },
     "execution_count": 23,
     "metadata": {},
     "output_type": "execute_result"
    }
   ],
   "source": [
    "margin_of_error = z_score*estimated_standard_error[0]\n",
    "margin_of_error"
   ]
  },
  {
   "cell_type": "markdown",
   "id": "1ebb6804",
   "metadata": {},
   "source": [
    "### 99 % confidence interval for Mean Non-zero Rating"
   ]
  },
  {
   "cell_type": "code",
   "execution_count": 24,
   "id": "c9aae887",
   "metadata": {},
   "outputs": [
    {
     "data": {
      "text/plain": [
       "[4.1011366377883105, 4.111364299032494]"
      ]
     },
     "execution_count": 24,
     "metadata": {},
     "output_type": "execute_result"
    }
   ],
   "source": [
    "[sample_mean[0]-margin_of_error,sample_mean[0]+margin_of_error]"
   ]
  },
  {
   "cell_type": "markdown",
   "id": "d01ac848",
   "metadata": {},
   "source": [
    "## Selecting Values for a Regression based analysis :"
   ]
  },
  {
   "cell_type": "code",
   "execution_count": 25,
   "id": "c76312d3",
   "metadata": {},
   "outputs": [],
   "source": [
    "psdata_non_zero_rating = psdata_cleaned[~(psdata_cleaned['Rating']==0)]"
   ]
  },
  {
   "cell_type": "code",
   "execution_count": 56,
   "id": "0a2d9133",
   "metadata": {},
   "outputs": [
    {
     "name": "stderr",
     "output_type": "stream",
     "text": [
      "C:\\Users\\Allo\\AppData\\Local\\Temp\\ipykernel_4516\\2061917654.py:1: SettingWithCopyWarning: \n",
      "A value is trying to be set on a copy of a slice from a DataFrame.\n",
      "Try using .loc[row_indexer,col_indexer] = value instead\n",
      "\n",
      "See the caveats in the documentation: https://pandas.pydata.org/pandas-docs/stable/user_guide/indexing.html#returning-a-view-versus-a-copy\n",
      "  psdata_non_zero_rating['weighted avg Rating'] = (psdata_non_zero_rating['Rating'] * psdata_non_zero_rating['Rating Count'])\n"
     ]
    },
    {
     "data": {
      "text/plain": [
       "1             281.6\n",
       "3              25.0\n",
       "6              54.0\n",
       "7              78.0\n",
       "8            3854.0\n",
       "             ...   \n",
       "2235239    444903.8\n",
       "2235240      1376.0\n",
       "2235245        57.8\n",
       "2235248        28.0\n",
       "2235249        60.0\n",
       "Name: weighted avg Rating, Length: 1200875, dtype: float64"
      ]
     },
     "execution_count": 56,
     "metadata": {},
     "output_type": "execute_result"
    }
   ],
   "source": [
    "psdata_non_zero_rating['weighted avg Rating'] = (psdata_non_zero_rating['Rating'] * psdata_non_zero_rating['Rating Count'])\n",
    "psdata_non_zero_rating['weighted avg Rating']"
   ]
  },
  {
   "cell_type": "code",
   "execution_count": 63,
   "id": "2f71d9f7",
   "metadata": {},
   "outputs": [
    {
     "data": {
      "text/plain": [
       "Category\n",
       "Events                       1014.854177\n",
       "Education                    3579.007869\n",
       "Medical                      3867.090556\n",
       "Books & Reference            4532.905025\n",
       "Beauty                       4673.223990\n",
       "Business                     5057.461720\n",
       "News & Magazines             5086.937208\n",
       "House & Home                 5402.082844\n",
       "Auto & Vehicles              5868.445110\n",
       "Libraries & Demo             5874.468262\n",
       "Lifestyle                    7217.345547\n",
       "Travel & Local               7741.344095\n",
       "Art & Design                 7796.600924\n",
       "Personalization              8639.208048\n",
       "Food & Drink                 9219.641236\n",
       "Music & Audio                9271.804487\n",
       "Educational                 10079.471330\n",
       "Health & Fitness            10745.647890\n",
       "Entertainment               10815.123712\n",
       "Dating                      13485.017067\n",
       "Parenting                   13765.111944\n",
       "Comics                      13867.059175\n",
       "Maps & Navigation           16087.610736\n",
       "Productivity                17014.785228\n",
       "Finance                     19650.727996\n",
       "Trivia                      22419.329260\n",
       "Tools                       23094.390859\n",
       "Weather                     25189.924309\n",
       "Shopping                    27848.584000\n",
       "Puzzle                      28503.188773\n",
       "Arcade                      34480.534804\n",
       "Sports                      35316.408363\n",
       "Card                        35404.230781\n",
       "Adventure                   35545.300536\n",
       "Music                       36535.477694\n",
       "Board                       36602.011945\n",
       "Photography                 40588.566428\n",
       "Word                        42136.645478\n",
       "Simulation                  50073.600657\n",
       "Casual                      52023.037917\n",
       "Casino                      53609.410594\n",
       "Social                      55636.937545\n",
       "Role Playing                72459.481651\n",
       "Communication               80282.662115\n",
       "Racing                      99113.009621\n",
       "Video Players & Editors    109447.409680\n",
       "Action                     129270.023740\n",
       "Strategy                   171707.908606\n",
       "Name: weighted avg Rating, dtype: float64"
      ]
     },
     "execution_count": 63,
     "metadata": {},
     "output_type": "execute_result"
    }
   ],
   "source": [
    "psdata_non_zero_rating.groupby(['Category'])['weighted avg Rating'].mean().sort_values()"
   ]
  },
  {
   "cell_type": "code",
   "execution_count": 67,
   "id": "bdfdedff",
   "metadata": {},
   "outputs": [],
   "source": [
    "subset_data= psdata_non_zero_rating[psdata_non_zero_rating['Category'].isin(['Racing','Video Players & Editors','Action']) ]"
   ]
  },
  {
   "cell_type": "code",
   "execution_count": 69,
   "id": "17404d11",
   "metadata": {},
   "outputs": [],
   "source": [
    "subset_data.reset_index(drop=True,inplace=True)"
   ]
  },
  {
   "cell_type": "code",
   "execution_count": 70,
   "id": "5fc392d3",
   "metadata": {},
   "outputs": [
    {
     "data": {
      "text/html": [
       "<div>\n",
       "<style scoped>\n",
       "    .dataframe tbody tr th:only-of-type {\n",
       "        vertical-align: middle;\n",
       "    }\n",
       "\n",
       "    .dataframe tbody tr th {\n",
       "        vertical-align: top;\n",
       "    }\n",
       "\n",
       "    .dataframe thead th {\n",
       "        text-align: right;\n",
       "    }\n",
       "</style>\n",
       "<table border=\"1\" class=\"dataframe\">\n",
       "  <thead>\n",
       "    <tr style=\"text-align: right;\">\n",
       "      <th></th>\n",
       "      <th>App Name</th>\n",
       "      <th>App Id</th>\n",
       "      <th>Category</th>\n",
       "      <th>Rating</th>\n",
       "      <th>Rating Count</th>\n",
       "      <th>Installs</th>\n",
       "      <th>Minimum Installs</th>\n",
       "      <th>Maximum Installs</th>\n",
       "      <th>Free</th>\n",
       "      <th>Price</th>\n",
       "      <th>...</th>\n",
       "      <th>Last Updated</th>\n",
       "      <th>Content Rating</th>\n",
       "      <th>Privacy Policy</th>\n",
       "      <th>Ad Supported</th>\n",
       "      <th>In App Purchases</th>\n",
       "      <th>Editors Choice</th>\n",
       "      <th>Scraped Time</th>\n",
       "      <th>period_after_release</th>\n",
       "      <th>period_after_update</th>\n",
       "      <th>weighted avg Rating</th>\n",
       "    </tr>\n",
       "  </thead>\n",
       "  <tbody>\n",
       "    <tr>\n",
       "      <th>0</th>\n",
       "      <td>Dodge The Cars!</td>\n",
       "      <td>com.MrScratchEnterprises.CarDogeGame</td>\n",
       "      <td>Racing</td>\n",
       "      <td>4.9</td>\n",
       "      <td>55.0</td>\n",
       "      <td>100</td>\n",
       "      <td>100.0</td>\n",
       "      <td>329</td>\n",
       "      <td>True</td>\n",
       "      <td>0.0</td>\n",
       "      <td>...</td>\n",
       "      <td>2020-07-30</td>\n",
       "      <td>Everyone</td>\n",
       "      <td>https://docs.google.com/document/d/1HTtvenbfLk...</td>\n",
       "      <td>False</td>\n",
       "      <td>False</td>\n",
       "      <td>False</td>\n",
       "      <td>2021-06-15</td>\n",
       "      <td>320 days</td>\n",
       "      <td>320 days</td>\n",
       "      <td>269.5</td>\n",
       "    </tr>\n",
       "    <tr>\n",
       "      <th>1</th>\n",
       "      <td>Car Games Revival: Car Racing Games for Kids</td>\n",
       "      <td>com.lf.real.extreme.suv.offroad.drive.games.free</td>\n",
       "      <td>Racing</td>\n",
       "      <td>3.9</td>\n",
       "      <td>55218.0</td>\n",
       "      <td>10000000</td>\n",
       "      <td>10000000.0</td>\n",
       "      <td>30052692</td>\n",
       "      <td>True</td>\n",
       "      <td>0.0</td>\n",
       "      <td>...</td>\n",
       "      <td>2021-06-12</td>\n",
       "      <td>Everyone</td>\n",
       "      <td>http://www.abstron.com/legal/privacy.html</td>\n",
       "      <td>True</td>\n",
       "      <td>True</td>\n",
       "      <td>False</td>\n",
       "      <td>2021-06-15</td>\n",
       "      <td>1679 days</td>\n",
       "      <td>3 days</td>\n",
       "      <td>215350.2</td>\n",
       "    </tr>\n",
       "    <tr>\n",
       "      <th>2</th>\n",
       "      <td>HD Video Player (IPTV) Mp4 Max - All Format</td>\n",
       "      <td>com.croynox.hdvideoplayeriptv</td>\n",
       "      <td>Video Players &amp; Editors</td>\n",
       "      <td>3.9</td>\n",
       "      <td>397.0</td>\n",
       "      <td>50000</td>\n",
       "      <td>50000.0</td>\n",
       "      <td>71428</td>\n",
       "      <td>True</td>\n",
       "      <td>0.0</td>\n",
       "      <td>...</td>\n",
       "      <td>2018-09-21</td>\n",
       "      <td>Everyone</td>\n",
       "      <td>https://pastebin.com/KvN42Tpi</td>\n",
       "      <td>True</td>\n",
       "      <td>False</td>\n",
       "      <td>False</td>\n",
       "      <td>2021-06-15</td>\n",
       "      <td>998 days</td>\n",
       "      <td>998 days</td>\n",
       "      <td>1548.3</td>\n",
       "    </tr>\n",
       "    <tr>\n",
       "      <th>3</th>\n",
       "      <td>John Brick</td>\n",
       "      <td>com.AppsBergman.JohnBrick</td>\n",
       "      <td>Action</td>\n",
       "      <td>3.9</td>\n",
       "      <td>11.0</td>\n",
       "      <td>500</td>\n",
       "      <td>500.0</td>\n",
       "      <td>522</td>\n",
       "      <td>True</td>\n",
       "      <td>0.0</td>\n",
       "      <td>...</td>\n",
       "      <td>2021-03-22</td>\n",
       "      <td>Teen</td>\n",
       "      <td>http://appsbergman.com/privacy_policy.html</td>\n",
       "      <td>True</td>\n",
       "      <td>False</td>\n",
       "      <td>False</td>\n",
       "      <td>2021-06-15</td>\n",
       "      <td>88 days</td>\n",
       "      <td>85 days</td>\n",
       "      <td>42.9</td>\n",
       "    </tr>\n",
       "    <tr>\n",
       "      <th>4</th>\n",
       "      <td>AR Car Drive : Camera Version</td>\n",
       "      <td>com.zabuzalabs.car_racing_ar</td>\n",
       "      <td>Racing</td>\n",
       "      <td>3.4</td>\n",
       "      <td>1290.0</td>\n",
       "      <td>100000</td>\n",
       "      <td>100000.0</td>\n",
       "      <td>269845</td>\n",
       "      <td>True</td>\n",
       "      <td>0.0</td>\n",
       "      <td>...</td>\n",
       "      <td>2016-06-27</td>\n",
       "      <td>Everyone</td>\n",
       "      <td>http://zabuzalabs.com/privacy.html</td>\n",
       "      <td>False</td>\n",
       "      <td>False</td>\n",
       "      <td>False</td>\n",
       "      <td>2021-06-15</td>\n",
       "      <td>1816 days</td>\n",
       "      <td>1814 days</td>\n",
       "      <td>4386.0</td>\n",
       "    </tr>\n",
       "    <tr>\n",
       "      <th>...</th>\n",
       "      <td>...</td>\n",
       "      <td>...</td>\n",
       "      <td>...</td>\n",
       "      <td>...</td>\n",
       "      <td>...</td>\n",
       "      <td>...</td>\n",
       "      <td>...</td>\n",
       "      <td>...</td>\n",
       "      <td>...</td>\n",
       "      <td>...</td>\n",
       "      <td>...</td>\n",
       "      <td>...</td>\n",
       "      <td>...</td>\n",
       "      <td>...</td>\n",
       "      <td>...</td>\n",
       "      <td>...</td>\n",
       "      <td>...</td>\n",
       "      <td>...</td>\n",
       "      <td>...</td>\n",
       "      <td>...</td>\n",
       "      <td>...</td>\n",
       "    </tr>\n",
       "    <tr>\n",
       "      <th>35800</th>\n",
       "      <td>Death Racing 2020: Car Race Game</td>\n",
       "      <td>com.isw.death.racing</td>\n",
       "      <td>Racing</td>\n",
       "      <td>3.8</td>\n",
       "      <td>1383.0</td>\n",
       "      <td>100000</td>\n",
       "      <td>100000.0</td>\n",
       "      <td>274991</td>\n",
       "      <td>True</td>\n",
       "      <td>0.0</td>\n",
       "      <td>...</td>\n",
       "      <td>2018-08-20</td>\n",
       "      <td>Everyone</td>\n",
       "      <td>https://www.facebook.com/Zinger-Games-14686735...</td>\n",
       "      <td>True</td>\n",
       "      <td>False</td>\n",
       "      <td>False</td>\n",
       "      <td>2021-06-16</td>\n",
       "      <td>1032 days</td>\n",
       "      <td>1031 days</td>\n",
       "      <td>5255.4</td>\n",
       "    </tr>\n",
       "    <tr>\n",
       "      <th>35801</th>\n",
       "      <td>Taken Tag3 - Fighting Game 3D</td>\n",
       "      <td>com.fighting.game.taken.tag.tournament.two</td>\n",
       "      <td>Action</td>\n",
       "      <td>3.5</td>\n",
       "      <td>27.0</td>\n",
       "      <td>5000</td>\n",
       "      <td>5000.0</td>\n",
       "      <td>7096</td>\n",
       "      <td>True</td>\n",
       "      <td>0.0</td>\n",
       "      <td>...</td>\n",
       "      <td>2020-02-25</td>\n",
       "      <td>Teen</td>\n",
       "      <td>https://sites.google.com/view/rogergamesprivac...</td>\n",
       "      <td>True</td>\n",
       "      <td>False</td>\n",
       "      <td>False</td>\n",
       "      <td>2021-06-16</td>\n",
       "      <td>478 days</td>\n",
       "      <td>477 days</td>\n",
       "      <td>94.5</td>\n",
       "    </tr>\n",
       "    <tr>\n",
       "      <th>35802</th>\n",
       "      <td>Mindclash</td>\n",
       "      <td>de.bachert.mindclash</td>\n",
       "      <td>Action</td>\n",
       "      <td>3.8</td>\n",
       "      <td>10.0</td>\n",
       "      <td>500</td>\n",
       "      <td>500.0</td>\n",
       "      <td>899</td>\n",
       "      <td>True</td>\n",
       "      <td>0.0</td>\n",
       "      <td>...</td>\n",
       "      <td>2015-08-08</td>\n",
       "      <td>Everyone</td>\n",
       "      <td>NaN</td>\n",
       "      <td>False</td>\n",
       "      <td>False</td>\n",
       "      <td>False</td>\n",
       "      <td>2021-06-16</td>\n",
       "      <td>2139 days</td>\n",
       "      <td>2139 days</td>\n",
       "      <td>38.0</td>\n",
       "    </tr>\n",
       "    <tr>\n",
       "      <th>35803</th>\n",
       "      <td>Fighting</td>\n",
       "      <td>com.dewberry_games.fighting</td>\n",
       "      <td>Action</td>\n",
       "      <td>3.2</td>\n",
       "      <td>2979.0</td>\n",
       "      <td>100000</td>\n",
       "      <td>100000.0</td>\n",
       "      <td>220857</td>\n",
       "      <td>True</td>\n",
       "      <td>0.0</td>\n",
       "      <td>...</td>\n",
       "      <td>2016-04-26</td>\n",
       "      <td>Teen</td>\n",
       "      <td>http://dewberry-games.ru/conf.txt</td>\n",
       "      <td>True</td>\n",
       "      <td>False</td>\n",
       "      <td>False</td>\n",
       "      <td>2021-06-16</td>\n",
       "      <td>2574 days</td>\n",
       "      <td>1877 days</td>\n",
       "      <td>9532.8</td>\n",
       "    </tr>\n",
       "    <tr>\n",
       "      <th>35804</th>\n",
       "      <td>Hopeless 2: Cave Escape</td>\n",
       "      <td>com.upopa.hopeless2</td>\n",
       "      <td>Action</td>\n",
       "      <td>4.3</td>\n",
       "      <td>103466.0</td>\n",
       "      <td>5000000</td>\n",
       "      <td>5000000.0</td>\n",
       "      <td>7274660</td>\n",
       "      <td>True</td>\n",
       "      <td>0.0</td>\n",
       "      <td>...</td>\n",
       "      <td>2017-03-06</td>\n",
       "      <td>Teen</td>\n",
       "      <td>http://www.upopa.com/games/hopeless2/privacypo...</td>\n",
       "      <td>True</td>\n",
       "      <td>True</td>\n",
       "      <td>False</td>\n",
       "      <td>2021-06-16</td>\n",
       "      <td>2057 days</td>\n",
       "      <td>1563 days</td>\n",
       "      <td>444903.8</td>\n",
       "    </tr>\n",
       "  </tbody>\n",
       "</table>\n",
       "<p>35805 rows × 27 columns</p>\n",
       "</div>"
      ],
      "text/plain": [
       "                                           App Name  \\\n",
       "0                                   Dodge The Cars!   \n",
       "1      Car Games Revival: Car Racing Games for Kids   \n",
       "2       HD Video Player (IPTV) Mp4 Max - All Format   \n",
       "3                                        John Brick   \n",
       "4                     AR Car Drive : Camera Version   \n",
       "...                                             ...   \n",
       "35800              Death Racing 2020: Car Race Game   \n",
       "35801                 Taken Tag3 - Fighting Game 3D   \n",
       "35802                                     Mindclash   \n",
       "35803                                      Fighting   \n",
       "35804                       Hopeless 2: Cave Escape   \n",
       "\n",
       "                                                 App Id  \\\n",
       "0                  com.MrScratchEnterprises.CarDogeGame   \n",
       "1      com.lf.real.extreme.suv.offroad.drive.games.free   \n",
       "2                         com.croynox.hdvideoplayeriptv   \n",
       "3                             com.AppsBergman.JohnBrick   \n",
       "4                          com.zabuzalabs.car_racing_ar   \n",
       "...                                                 ...   \n",
       "35800                              com.isw.death.racing   \n",
       "35801        com.fighting.game.taken.tag.tournament.two   \n",
       "35802                              de.bachert.mindclash   \n",
       "35803                       com.dewberry_games.fighting   \n",
       "35804                               com.upopa.hopeless2   \n",
       "\n",
       "                      Category  Rating  Rating Count  Installs  \\\n",
       "0                       Racing     4.9          55.0       100   \n",
       "1                       Racing     3.9       55218.0  10000000   \n",
       "2      Video Players & Editors     3.9         397.0     50000   \n",
       "3                       Action     3.9          11.0       500   \n",
       "4                       Racing     3.4        1290.0    100000   \n",
       "...                        ...     ...           ...       ...   \n",
       "35800                   Racing     3.8        1383.0    100000   \n",
       "35801                   Action     3.5          27.0      5000   \n",
       "35802                   Action     3.8          10.0       500   \n",
       "35803                   Action     3.2        2979.0    100000   \n",
       "35804                   Action     4.3      103466.0   5000000   \n",
       "\n",
       "       Minimum Installs  Maximum Installs  Free  Price  ... Last Updated  \\\n",
       "0                 100.0               329  True    0.0  ...   2020-07-30   \n",
       "1            10000000.0          30052692  True    0.0  ...   2021-06-12   \n",
       "2               50000.0             71428  True    0.0  ...   2018-09-21   \n",
       "3                 500.0               522  True    0.0  ...   2021-03-22   \n",
       "4              100000.0            269845  True    0.0  ...   2016-06-27   \n",
       "...                 ...               ...   ...    ...  ...          ...   \n",
       "35800          100000.0            274991  True    0.0  ...   2018-08-20   \n",
       "35801            5000.0              7096  True    0.0  ...   2020-02-25   \n",
       "35802             500.0               899  True    0.0  ...   2015-08-08   \n",
       "35803          100000.0            220857  True    0.0  ...   2016-04-26   \n",
       "35804         5000000.0           7274660  True    0.0  ...   2017-03-06   \n",
       "\n",
       "      Content Rating                                     Privacy Policy  \\\n",
       "0           Everyone  https://docs.google.com/document/d/1HTtvenbfLk...   \n",
       "1           Everyone          http://www.abstron.com/legal/privacy.html   \n",
       "2           Everyone                      https://pastebin.com/KvN42Tpi   \n",
       "3               Teen         http://appsbergman.com/privacy_policy.html   \n",
       "4           Everyone                 http://zabuzalabs.com/privacy.html   \n",
       "...              ...                                                ...   \n",
       "35800       Everyone  https://www.facebook.com/Zinger-Games-14686735...   \n",
       "35801           Teen  https://sites.google.com/view/rogergamesprivac...   \n",
       "35802       Everyone                                                NaN   \n",
       "35803           Teen                  http://dewberry-games.ru/conf.txt   \n",
       "35804           Teen  http://www.upopa.com/games/hopeless2/privacypo...   \n",
       "\n",
       "      Ad Supported In App Purchases Editors Choice Scraped Time  \\\n",
       "0            False            False          False   2021-06-15   \n",
       "1             True             True          False   2021-06-15   \n",
       "2             True            False          False   2021-06-15   \n",
       "3             True            False          False   2021-06-15   \n",
       "4            False            False          False   2021-06-15   \n",
       "...            ...              ...            ...          ...   \n",
       "35800         True            False          False   2021-06-16   \n",
       "35801         True            False          False   2021-06-16   \n",
       "35802        False            False          False   2021-06-16   \n",
       "35803         True            False          False   2021-06-16   \n",
       "35804         True             True          False   2021-06-16   \n",
       "\n",
       "      period_after_release period_after_update weighted avg Rating  \n",
       "0                 320 days            320 days               269.5  \n",
       "1                1679 days              3 days            215350.2  \n",
       "2                 998 days            998 days              1548.3  \n",
       "3                  88 days             85 days                42.9  \n",
       "4                1816 days           1814 days              4386.0  \n",
       "...                    ...                 ...                 ...  \n",
       "35800            1032 days           1031 days              5255.4  \n",
       "35801             478 days            477 days                94.5  \n",
       "35802            2139 days           2139 days                38.0  \n",
       "35803            2574 days           1877 days              9532.8  \n",
       "35804            2057 days           1563 days            444903.8  \n",
       "\n",
       "[35805 rows x 27 columns]"
      ]
     },
     "execution_count": 70,
     "metadata": {},
     "output_type": "execute_result"
    }
   ],
   "source": [
    "subset_data"
   ]
  },
  {
   "cell_type": "code",
   "execution_count": 198,
   "id": "45643f63",
   "metadata": {},
   "outputs": [
    {
     "data": {
      "text/plain": [
       "<Axes: xlabel='Category', ylabel='Rating'>"
      ]
     },
     "execution_count": 198,
     "metadata": {},
     "output_type": "execute_result"
    },
    {
     "data": {
      "image/png": "[encoded data removed]",
      "text/plain": [
       "<Figure size 640x480 with 1 Axes>"
      ]
     },
     "metadata": {},
     "output_type": "display_data"
    }
   ],
   "source": [
    "sns.boxplot(data= subset_data , x = 'Category' , y='Rating',showfliers=True)"
   ]
  },
  {
   "cell_type": "markdown",
   "id": "c250b9b4",
   "metadata": {},
   "source": [
    "For regression based analysis :\n",
    "- We have to perform Outlier removal\n",
    "- Convert Category to category dtype "
   ]
  },
  {
   "cell_type": "code",
   "execution_count": 90,
   "id": "801d6792",
   "metadata": {},
   "outputs": [
    {
     "name": "stderr",
     "output_type": "stream",
     "text": [
      "C:\\Users\\Allo\\AppData\\Local\\Temp\\ipykernel_4516\\340954461.py:1: SettingWithCopyWarning: \n",
      "A value is trying to be set on a copy of a slice from a DataFrame.\n",
      "Try using .loc[row_indexer,col_indexer] = value instead\n",
      "\n",
      "See the caveats in the documentation: https://pandas.pydata.org/pandas-docs/stable/user_guide/indexing.html#returning-a-view-versus-a-copy\n",
      "  subset_data['Category']=subset_data.Category.astype('category')\n"
     ]
    }
   ],
   "source": [
    "subset_data['Category']=subset_data.Category.astype('category')"
   ]
  },
  {
   "cell_type": "code",
   "execution_count": 95,
   "id": "b4de974c",
   "metadata": {},
   "outputs": [
    {
     "data": {
      "text/plain": [
       "0                         Racing\n",
       "1                         Racing\n",
       "2        Video Players & Editors\n",
       "3                         Action\n",
       "4                         Racing\n",
       "                  ...           \n",
       "35800                     Racing\n",
       "35801                     Action\n",
       "35802                     Action\n",
       "35803                     Action\n",
       "35804                     Action\n",
       "Name: Category, Length: 35805, dtype: category\n",
       "Categories (3, object): ['Action', 'Racing', 'Video Players & Editors']"
      ]
     },
     "execution_count": 95,
     "metadata": {},
     "output_type": "execute_result"
    }
   ],
   "source": [
    "subset_data['Category']"
   ]
  },
  {
   "cell_type": "code",
   "execution_count": null,
   "id": "2dc5016f",
   "metadata": {},
   "outputs": [],
   "source": []
  },
  {
   "cell_type": "code",
   "execution_count": 148,
   "id": "d673a49e",
   "metadata": {},
   "outputs": [
    {
     "name": "stdout",
     "output_type": "stream",
     "text": [
      "q1:  3.6 q3:  4.4\n",
      "iqr 0.8000000000000003\n",
      "range [2.8, 5.200000000000001]\n"
     ]
    }
   ],
   "source": [
    "\n",
    "q1= subset_data['Rating'].quantile(0.25)\n",
    "q3 =subset_data['Rating'].quantile(0.75)\n",
    "print('q1: ',q1,\"q3: \",q3)\n",
    "iqr=q3-q1\n",
    "print(\"iqr\",iqr)\n",
    "interval = [q1-iqr,q3+iqr]\n",
    "print(\"range\",interval)\n",
    "\n",
    "mask = (subset_data['Rating'] >= (q1-iqr)) & (subset_data['Rating'] <= (q3+iqr))\n",
    "subset_data[mask]['Rating'].value_counts()\n",
    "\n",
    "subset_data_outlier_removed = subset_data[mask]"
   ]
  },
  {
   "cell_type": "code",
   "execution_count": 150,
   "id": "2d0b0edc",
   "metadata": {},
   "outputs": [
    {
     "data": {
      "text/plain": [
       "<Axes: xlabel='Category', ylabel='Rating'>"
      ]
     },
     "execution_count": 150,
     "metadata": {},
     "output_type": "execute_result"
    },
    {
     "data": {
      "image/png": "[encoded data removed]",
      "text/plain": [
       "<Figure size 640x480 with 1 Axes>"
      ]
     },
     "metadata": {},
     "output_type": "display_data"
    }
   ],
   "source": [
    "sns.boxplot(data= subset_data_outlier_removed , x = 'Category' , y='Rating',showfliers=True)"
   ]
  },
  {
   "cell_type": "code",
   "execution_count": 169,
   "id": "3cbccccb",
   "metadata": {},
   "outputs": [
    {
     "data": {
      "image/png": "[encoded data removed]",
      "text/plain": [
       "<Figure size 640x480 with 1 Axes>"
      ]
     },
     "metadata": {},
     "output_type": "display_data"
    }
   ],
   "source": [
    "sm.qqplot(subset_data_outlier_removed[subset_data_outlier_removed['Category']=='Racing']['Rating'],line = 's')\n",
    "plt.show()"
   ]
  },
  {
   "cell_type": "code",
   "execution_count": 196,
   "id": "7b8e0a93",
   "metadata": {},
   "outputs": [
    {
     "data": {
      "image/png": "[encoded data removed]",
      "text/plain": [
       "<Figure size 640x480 with 1 Axes>"
      ]
     },
     "metadata": {},
     "output_type": "display_data"
    }
   ],
   "source": [
    "sns.histplot(subset_data_outlier_removed[subset_data_outlier_removed['Category']=='Racing']['Rating'],bins=23)\n",
    "plt.show()"
   ]
  },
  {
   "cell_type": "code",
   "execution_count": 186,
   "id": "4b4eb979",
   "metadata": {},
   "outputs": [
    {
     "data": {
      "image/png": "[encoded data removed]",
      "text/plain": [
       "<Figure size 640x480 with 1 Axes>"
      ]
     },
     "metadata": {},
     "output_type": "display_data"
    }
   ],
   "source": [
    "sm.qqplot(subset_data_outlier_removed[subset_data_outlier_removed['Category']=='Action']['Rating'],line = 's')\n",
    "plt.show()"
   ]
  },
  {
   "cell_type": "code",
   "execution_count": 195,
   "id": "2287133b",
   "metadata": {},
   "outputs": [
    {
     "data": {
      "image/png": "[encoded data removed]",
      "text/plain": [
       "<Figure size 640x480 with 1 Axes>"
      ]
     },
     "metadata": {},
     "output_type": "display_data"
    }
   ],
   "source": [
    "sns.histplot(subset_data_outlier_removed[subset_data_outlier_removed['Category']=='Action']['Rating'],bins=23)\n",
    "plt.show()"
   ]
  },
  {
   "cell_type": "code",
   "execution_count": 188,
   "id": "800735bd",
   "metadata": {},
   "outputs": [
    {
     "data": {
      "image/png": "[encoded data removed]",
      "text/plain": [
       "<Figure size 640x480 with 1 Axes>"
      ]
     },
     "metadata": {},
     "output_type": "display_data"
    }
   ],
   "source": [
    "sm.qqplot(subset_data_outlier_removed[subset_data_outlier_removed['Category']=='Video Players & Editors']['Rating'],line = 's')\n",
    "plt.show()"
   ]
  },
  {
   "cell_type": "code",
   "execution_count": 197,
   "id": "7843fa6a",
   "metadata": {},
   "outputs": [
    {
     "data": {
      "image/png": "[encoded data removed]",
      "text/plain": [
       "<Figure size 640x480 with 1 Axes>"
      ]
     },
     "metadata": {},
     "output_type": "display_data"
    }
   ],
   "source": [
    "sns.histplot(subset_data_outlier_removed[subset_data_outlier_removed['Category']=='Video Players & Editors']['Rating'],bins=23)\n",
    "plt.show()"
   ]
  },
  {
   "cell_type": "markdown",
   "id": "fcfcfec2",
   "metadata": {},
   "source": [
    "- All Rating distributions based on selected categories are approximately normal"
   ]
  },
  {
   "cell_type": "code",
   "execution_count": 173,
   "id": "d1d0d00b",
   "metadata": {},
   "outputs": [],
   "source": [
    "import statsmodels.api as sm\n",
    "from statsmodels.formula.api import ols"
   ]
  },
  {
   "cell_type": "code",
   "execution_count": 174,
   "id": "7a122fcd",
   "metadata": {},
   "outputs": [
    {
     "data": {
      "text/plain": [
       "Category\n",
       "Action                     17287\n",
       "Video Players & Editors     9517\n",
       "Racing                      7334\n",
       "Name: count, dtype: int64"
      ]
     },
     "execution_count": 174,
     "metadata": {},
     "output_type": "execute_result"
    }
   ],
   "source": [
    "data = subset_data_outlier_removed\n",
    "data['Category'].value_counts()"
   ]
  },
  {
   "cell_type": "code",
   "execution_count": 175,
   "id": "09debf61",
   "metadata": {},
   "outputs": [],
   "source": [
    "model = ols(formula=\"Rating ~ C(Category)\", data = data ).fit()"
   ]
  },
  {
   "cell_type": "code",
   "execution_count": 181,
   "id": "283884b7",
   "metadata": {},
   "outputs": [
    {
     "data": {
      "text/html": [
       "<table class=\"simpletable\">\n",
       "<caption>OLS Regression Results</caption>\n",
       "<tr>\n",
       "  <th>Dep. Variable:</th>         <td>Rating</td>      <th>  R-squared:         </th> <td>   0.006</td> \n",
       "</tr>\n",
       "<tr>\n",
       "  <th>Model:</th>                   <td>OLS</td>       <th>  Adj. R-squared:    </th> <td>   0.006</td> \n",
       "</tr>\n",
       "<tr>\n",
       "  <th>Method:</th>             <td>Least Squares</td>  <th>  F-statistic:       </th> <td>   103.6</td> \n",
       "</tr>\n",
       "<tr>\n",
       "  <th>Date:</th>             <td>Wed, 25 Sep 2024</td> <th>  Prob (F-statistic):</th> <td>1.44e-45</td> \n",
       "</tr>\n",
       "<tr>\n",
       "  <th>Time:</th>                 <td>20:51:35</td>     <th>  Log-Likelihood:    </th> <td> -26194.</td> \n",
       "</tr>\n",
       "<tr>\n",
       "  <th>No. Observations:</th>      <td> 34138</td>      <th>  AIC:               </th> <td>5.239e+04</td>\n",
       "</tr>\n",
       "<tr>\n",
       "  <th>Df Residuals:</th>          <td> 34135</td>      <th>  BIC:               </th> <td>5.242e+04</td>\n",
       "</tr>\n",
       "<tr>\n",
       "  <th>Df Model:</th>              <td>     2</td>      <th>                     </th>     <td> </td>    \n",
       "</tr>\n",
       "<tr>\n",
       "  <th>Covariance Type:</th>      <td>nonrobust</td>    <th>                     </th>     <td> </td>    \n",
       "</tr>\n",
       "</table>\n",
       "<table class=\"simpletable\">\n",
       "<tr>\n",
       "                     <td></td>                       <th>coef</th>     <th>std err</th>      <th>t</th>      <th>P>|t|</th>  <th>[0.025</th>    <th>0.975]</th>  \n",
       "</tr>\n",
       "<tr>\n",
       "  <th>Intercept</th>                              <td>    4.0644</td> <td>    0.004</td> <td> 1025.274</td> <td> 0.000</td> <td>    4.057</td> <td>    4.072</td>\n",
       "</tr>\n",
       "<tr>\n",
       "  <th>C(Category)[T.Racing]</th>                  <td>   -0.0306</td> <td>    0.007</td> <td>   -4.211</td> <td> 0.000</td> <td>   -0.045</td> <td>   -0.016</td>\n",
       "</tr>\n",
       "<tr>\n",
       "  <th>C(Category)[T.Video Players & Editors]</th> <td>   -0.0957</td> <td>    0.007</td> <td>  -14.384</td> <td> 0.000</td> <td>   -0.109</td> <td>   -0.083</td>\n",
       "</tr>\n",
       "</table>\n",
       "<table class=\"simpletable\">\n",
       "<tr>\n",
       "  <th>Omnibus:</th>       <td>704.382</td> <th>  Durbin-Watson:     </th> <td>   1.995</td>\n",
       "</tr>\n",
       "<tr>\n",
       "  <th>Prob(Omnibus):</th> <td> 0.000</td>  <th>  Jarque-Bera (JB):  </th> <td> 407.190</td>\n",
       "</tr>\n",
       "<tr>\n",
       "  <th>Skew:</th>          <td>-0.096</td>  <th>  Prob(JB):          </th> <td>3.80e-89</td>\n",
       "</tr>\n",
       "<tr>\n",
       "  <th>Kurtosis:</th>      <td> 2.500</td>  <th>  Cond. No.          </th> <td>    3.24</td>\n",
       "</tr>\n",
       "</table><br/><br/>Notes:<br/>[1] Standard Errors assume that the covariance matrix of the errors is correctly specified."
      ],
      "text/latex": [
       "\\begin{center}\n",
       "\\begin{tabular}{lclc}\n",
       "\\toprule\n",
       "\\textbf{Dep. Variable:}                          &      Rating      & \\textbf{  R-squared:         } &     0.006   \\\\\n",
       "\\textbf{Model:}                                  &       OLS        & \\textbf{  Adj. R-squared:    } &     0.006   \\\\\n",
       "\\textbf{Method:}                                 &  Least Squares   & \\textbf{  F-statistic:       } &     103.6   \\\\\n",
       "\\textbf{Date:}                                   & Wed, 25 Sep 2024 & \\textbf{  Prob (F-statistic):} &  1.44e-45   \\\\\n",
       "\\textbf{Time:}                                   &     20:51:35     & \\textbf{  Log-Likelihood:    } &   -26194.   \\\\\n",
       "\\textbf{No. Observations:}                       &       34138      & \\textbf{  AIC:               } & 5.239e+04   \\\\\n",
       "\\textbf{Df Residuals:}                           &       34135      & \\textbf{  BIC:               } & 5.242e+04   \\\\\n",
       "\\textbf{Df Model:}                               &           2      & \\textbf{                     } &             \\\\\n",
       "\\textbf{Covariance Type:}                        &    nonrobust     & \\textbf{                     } &             \\\\\n",
       "\\bottomrule\n",
       "\\end{tabular}\n",
       "\\begin{tabular}{lcccccc}\n",
       "                                                 & \\textbf{coef} & \\textbf{std err} & \\textbf{t} & \\textbf{P$> |$t$|$} & \\textbf{[0.025} & \\textbf{0.975]}  \\\\\n",
       "\\midrule\n",
       "\\textbf{Intercept}                               &       4.0644  &        0.004     &  1025.274  &         0.000        &        4.057    &        4.072     \\\\\n",
       "\\textbf{C(Category)[T.Racing]}                   &      -0.0306  &        0.007     &    -4.211  &         0.000        &       -0.045    &       -0.016     \\\\\n",
       "\\textbf{C(Category)[T.Video Players \\& Editors]} &      -0.0957  &        0.007     &   -14.384  &         0.000        &       -0.109    &       -0.083     \\\\\n",
       "\\bottomrule\n",
       "\\end{tabular}\n",
       "\\begin{tabular}{lclc}\n",
       "\\textbf{Omnibus:}       & 704.382 & \\textbf{  Durbin-Watson:     } &    1.995  \\\\\n",
       "\\textbf{Prob(Omnibus):} &   0.000 & \\textbf{  Jarque-Bera (JB):  } &  407.190  \\\\\n",
       "\\textbf{Skew:}          &  -0.096 & \\textbf{  Prob(JB):          } & 3.80e-89  \\\\\n",
       "\\textbf{Kurtosis:}      &   2.500 & \\textbf{  Cond. No.          } &     3.24  \\\\\n",
       "\\bottomrule\n",
       "\\end{tabular}\n",
       "%\\caption{OLS Regression Results}\n",
       "\\end{center}\n",
       "\n",
       "Notes: \\newline\n",
       " [1] Standard Errors assume that the covariance matrix of the errors is correctly specified."
      ],
      "text/plain": [
       "<class 'statsmodels.iolib.summary.Summary'>\n",
       "\"\"\"\n",
       "                            OLS Regression Results                            \n",
       "==============================================================================\n",
       "Dep. Variable:                 Rating   R-squared:                       0.006\n",
       "Model:                            OLS   Adj. R-squared:                  0.006\n",
       "Method:                 Least Squares   F-statistic:                     103.6\n",
       "Date:                Wed, 25 Sep 2024   Prob (F-statistic):           1.44e-45\n",
       "Time:                        20:51:35   Log-Likelihood:                -26194.\n",
       "No. Observations:               34138   AIC:                         5.239e+04\n",
       "Df Residuals:                   34135   BIC:                         5.242e+04\n",
       "Df Model:                           2                                         \n",
       "Covariance Type:            nonrobust                                         \n",
       "==========================================================================================================\n",
       "                                             coef    std err          t      P>|t|      [0.025      0.975]\n",
       "----------------------------------------------------------------------------------------------------------\n",
       "Intercept                                  4.0644      0.004   1025.274      0.000       4.057       4.072\n",
       "C(Category)[T.Racing]                     -0.0306      0.007     -4.211      0.000      -0.045      -0.016\n",
       "C(Category)[T.Video Players & Editors]    -0.0957      0.007    -14.384      0.000      -0.109      -0.083\n",
       "==============================================================================\n",
       "Omnibus:                      704.382   Durbin-Watson:                   1.995\n",
       "Prob(Omnibus):                  0.000   Jarque-Bera (JB):              407.190\n",
       "Skew:                          -0.096   Prob(JB):                     3.80e-89\n",
       "Kurtosis:                       2.500   Cond. No.                         3.24\n",
       "==============================================================================\n",
       "\n",
       "Notes:\n",
       "[1] Standard Errors assume that the covariance matrix of the errors is correctly specified.\n",
       "\"\"\""
      ]
     },
     "execution_count": 181,
     "metadata": {},
     "output_type": "execute_result"
    }
   ],
   "source": [
    "model.summary()"
   ]
  },
  {
   "cell_type": "markdown",
   "id": "11f924ec",
   "metadata": {},
   "source": [
    "- Based on Model summary, we reject the null hypothesis of the beta coefficients of any category is 0 "
   ]
  },
  {
   "cell_type": "code",
   "execution_count": 183,
   "id": "76a14424",
   "metadata": {},
   "outputs": [
    {
     "data": {
      "text/html": [
       "<div>\n",
       "<style scoped>\n",
       "    .dataframe tbody tr th:only-of-type {\n",
       "        vertical-align: middle;\n",
       "    }\n",
       "\n",
       "    .dataframe tbody tr th {\n",
       "        vertical-align: top;\n",
       "    }\n",
       "\n",
       "    .dataframe thead th {\n",
       "        text-align: right;\n",
       "    }\n",
       "</style>\n",
       "<table border=\"1\" class=\"dataframe\">\n",
       "  <thead>\n",
       "    <tr style=\"text-align: right;\">\n",
       "      <th></th>\n",
       "      <th>df</th>\n",
       "      <th>sum_sq</th>\n",
       "      <th>mean_sq</th>\n",
       "      <th>F</th>\n",
       "      <th>PR(&gt;F)</th>\n",
       "    </tr>\n",
       "  </thead>\n",
       "  <tbody>\n",
       "    <tr>\n",
       "      <th>C(Category)</th>\n",
       "      <td>2.0</td>\n",
       "      <td>56.271165</td>\n",
       "      <td>28.135582</td>\n",
       "      <td>103.567387</td>\n",
       "      <td>1.436063e-45</td>\n",
       "    </tr>\n",
       "    <tr>\n",
       "      <th>Residual</th>\n",
       "      <td>34135.0</td>\n",
       "      <td>9273.267655</td>\n",
       "      <td>0.271664</td>\n",
       "      <td>NaN</td>\n",
       "      <td>NaN</td>\n",
       "    </tr>\n",
       "  </tbody>\n",
       "</table>\n",
       "</div>"
      ],
      "text/plain": [
       "                  df       sum_sq    mean_sq           F        PR(>F)\n",
       "C(Category)      2.0    56.271165  28.135582  103.567387  1.436063e-45\n",
       "Residual     34135.0  9273.267655   0.271664         NaN           NaN"
      ]
     },
     "execution_count": 183,
     "metadata": {},
     "output_type": "execute_result"
    }
   ],
   "source": [
    "sm.stats.anova_lm(model,typ=1)"
   ]
  },
  {
   "cell_type": "markdown",
   "id": "2ffcb8c8",
   "metadata": {},
   "source": [
    "$h_0$ : MeanRating(Action) = MeanRating(Video Players & Editors) = MeanRating(Racing)\n",
    "\n",
    "$h_1$ : <b>NOT</b> MeanRating(Action) = MeanRating(Video Players & Editors) = MeanRating(Racing)\n",
    "\n",
    "\n",
    "- Based on ANOVA summary, we fail to reject the Null hypothesis"
   ]
  },
  {
   "cell_type": "code",
   "execution_count": 178,
   "id": "4f2a01c2",
   "metadata": {},
   "outputs": [],
   "source": [
    "from statsmodels.stats.multicomp import pairwise_tukeyhsd"
   ]
  },
  {
   "cell_type": "code",
   "execution_count": 179,
   "id": "7a3f4033",
   "metadata": {},
   "outputs": [],
   "source": [
    "tukey_oneway = pairwise_tukeyhsd(endog = data[\"Rating\"], groups = data[\"Category\"], alpha = 0.05)"
   ]
  },
  {
   "cell_type": "code",
   "execution_count": 180,
   "id": "bccdccab",
   "metadata": {},
   "outputs": [
    {
     "data": {
      "text/html": [
       "<table class=\"simpletable\">\n",
       "<caption>Multiple Comparison of Means - Tukey HSD, FWER=0.05</caption>\n",
       "<tr>\n",
       "  <th>group1</th>         <th>group2</th>          <th>meandiff</th>  <th>p-adj</th>  <th>lower</th>   <th>upper</th>  <th>reject</th>\n",
       "</tr>\n",
       "<tr>\n",
       "  <td>Action</td>         <td>Racing</td>           <td>-0.0306</td> <td>0.0001</td> <td>-0.0476</td> <td>-0.0136</td>  <td>True</td> \n",
       "</tr>\n",
       "<tr>\n",
       "  <td>Action</td> <td>Video Players & Editors</td>  <td>-0.0957</td>   <td>0.0</td>  <td>-0.1113</td> <td>-0.0801</td>  <td>True</td> \n",
       "</tr>\n",
       "<tr>\n",
       "  <td>Racing</td> <td>Video Players & Editors</td>  <td>-0.0651</td>   <td>0.0</td>  <td>-0.0841</td> <td>-0.0461</td>  <td>True</td> \n",
       "</tr>\n",
       "</table>"
      ],
      "text/latex": [
       "\\begin{center}\n",
       "\\begin{tabular}{ccccccc}\n",
       "\\toprule\n",
       "\\textbf{group1} &     \\textbf{group2}      & \\textbf{meandiff} & \\textbf{p-adj} & \\textbf{lower} & \\textbf{upper} & \\textbf{reject}  \\\\\n",
       "\\midrule\n",
       "     Action     &          Racing          &      -0.0306      &     0.0001     &    -0.0476     &    -0.0136     &       True       \\\\\n",
       "     Action     & Video Players \\& Editors &      -0.0957      &      0.0       &    -0.1113     &    -0.0801     &       True       \\\\\n",
       "     Racing     & Video Players \\& Editors &      -0.0651      &      0.0       &    -0.0841     &    -0.0461     &       True       \\\\\n",
       "\\bottomrule\n",
       "\\end{tabular}\n",
       "%\\caption{Multiple Comparison of Means - Tukey HSD, FWER=0.05}\n",
       "\\end{center}"
      ],
      "text/plain": [
       "<class 'statsmodels.iolib.table.SimpleTable'>"
      ]
     },
     "execution_count": 180,
     "metadata": {},
     "output_type": "execute_result"
    }
   ],
   "source": [
    "tukey_oneway.summary()"
   ]
  },
  {
   "cell_type": "markdown",
   "id": "be975dc8",
   "metadata": {},
   "source": [
    "$h_0$ : Category A and Category B have same mean Rating\n",
    "\n",
    "$h_a^1 $ :Category A and Category B Do not have same mean Rating\n",
    "\n",
    "- we reject null hypothesis \n",
    "- we reject null hypothesis that Action and Video Players & Editors have same mean Rating\n",
    "- we reject null Racing that Action and Racing have same mean Rating"
   ]
  }
 ],
 "metadata": {
  "kernelspec": {
   "display_name": "Python 3 (ipykernel)",
   "language": "python",
   "name": "python3"
  },
  "language_info": {
   "codemirror_mode": {
    "name": "ipython",
    "version": 3
   },
   "file_extension": ".py",
   "mimetype": "text/x-python",
   "name": "python",
   "nbconvert_exporter": "python",
   "pygments_lexer": "ipython3",
   "version": "3.11.5"
  }
 },
 "nbformat": 4,
 "nbformat_minor": 5
}
