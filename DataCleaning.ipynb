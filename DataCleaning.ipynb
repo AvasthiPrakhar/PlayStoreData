{
 "cells": [
  {
   "cell_type": "markdown",
   "id": "064e3578",
   "metadata": {},
   "source": [
    "### Importing Libraries"
   ]
  },
  {
   "cell_type": "code",
   "execution_count": 1,
   "id": "8ae9da69",
   "metadata": {},
   "outputs": [],
   "source": [
    "import numpy as np\n",
    "import pandas as pd\n",
    "import matplotlib.pyplot as plt\n",
    "import seaborn as sns"
   ]
  },
  {
   "cell_type": "code",
   "execution_count": 2,
   "id": "c1be27ef",
   "metadata": {},
   "outputs": [],
   "source": [
    "psdata=pd.read_csv('DATA/Google-Playstore.csv')"
   ]
  },
  {
   "cell_type": "markdown",
   "id": "99389459",
   "metadata": {},
   "source": [
    "### Data at a first glance :"
   ]
  },
  {
   "cell_type": "code",
   "execution_count": 3,
   "id": "d3a492af",
   "metadata": {},
   "outputs": [
    {
     "data": {
      "text/html": [
       "<div>\n",
       "<style scoped>\n",
       "    .dataframe tbody tr th:only-of-type {\n",
       "        vertical-align: middle;\n",
       "    }\n",
       "\n",
       "    .dataframe tbody tr th {\n",
       "        vertical-align: top;\n",
       "    }\n",
       "\n",
       "    .dataframe thead th {\n",
       "        text-align: right;\n",
       "    }\n",
       "</style>\n",
       "<table border=\"1\" class=\"dataframe\">\n",
       "  <thead>\n",
       "    <tr style=\"text-align: right;\">\n",
       "      <th></th>\n",
       "      <th>App Name</th>\n",
       "      <th>App Id</th>\n",
       "      <th>Category</th>\n",
       "      <th>Rating</th>\n",
       "      <th>Rating Count</th>\n",
       "      <th>Installs</th>\n",
       "      <th>Minimum Installs</th>\n",
       "      <th>Maximum Installs</th>\n",
       "      <th>Free</th>\n",
       "      <th>Price</th>\n",
       "      <th>...</th>\n",
       "      <th>Developer Website</th>\n",
       "      <th>Developer Email</th>\n",
       "      <th>Released</th>\n",
       "      <th>Last Updated</th>\n",
       "      <th>Content Rating</th>\n",
       "      <th>Privacy Policy</th>\n",
       "      <th>Ad Supported</th>\n",
       "      <th>In App Purchases</th>\n",
       "      <th>Editors Choice</th>\n",
       "      <th>Scraped Time</th>\n",
       "    </tr>\n",
       "  </thead>\n",
       "  <tbody>\n",
       "    <tr>\n",
       "      <th>0</th>\n",
       "      <td>Gakondo</td>\n",
       "      <td>com.ishakwe.gakondo</td>\n",
       "      <td>Adventure</td>\n",
       "      <td>0.0</td>\n",
       "      <td>0.0</td>\n",
       "      <td>10+</td>\n",
       "      <td>10.0</td>\n",
       "      <td>15</td>\n",
       "      <td>True</td>\n",
       "      <td>0.0</td>\n",
       "      <td>...</td>\n",
       "      <td>https://beniyizibyose.tk/#/</td>\n",
       "      <td>jean21101999@gmail.com</td>\n",
       "      <td>Feb 26, 2020</td>\n",
       "      <td>Feb 26, 2020</td>\n",
       "      <td>Everyone</td>\n",
       "      <td>https://beniyizibyose.tk/projects/</td>\n",
       "      <td>False</td>\n",
       "      <td>False</td>\n",
       "      <td>False</td>\n",
       "      <td>2021-06-15 20:19:35</td>\n",
       "    </tr>\n",
       "    <tr>\n",
       "      <th>1</th>\n",
       "      <td>Ampere Battery Info</td>\n",
       "      <td>com.webserveis.batteryinfo</td>\n",
       "      <td>Tools</td>\n",
       "      <td>4.4</td>\n",
       "      <td>64.0</td>\n",
       "      <td>5,000+</td>\n",
       "      <td>5000.0</td>\n",
       "      <td>7662</td>\n",
       "      <td>True</td>\n",
       "      <td>0.0</td>\n",
       "      <td>...</td>\n",
       "      <td>https://webserveis.netlify.app/</td>\n",
       "      <td>webserveis@gmail.com</td>\n",
       "      <td>May 21, 2020</td>\n",
       "      <td>May 06, 2021</td>\n",
       "      <td>Everyone</td>\n",
       "      <td>https://dev4phones.wordpress.com/licencia-de-uso/</td>\n",
       "      <td>True</td>\n",
       "      <td>False</td>\n",
       "      <td>False</td>\n",
       "      <td>2021-06-15 20:19:35</td>\n",
       "    </tr>\n",
       "    <tr>\n",
       "      <th>2</th>\n",
       "      <td>Vibook</td>\n",
       "      <td>com.doantiepvien.crm</td>\n",
       "      <td>Productivity</td>\n",
       "      <td>0.0</td>\n",
       "      <td>0.0</td>\n",
       "      <td>50+</td>\n",
       "      <td>50.0</td>\n",
       "      <td>58</td>\n",
       "      <td>True</td>\n",
       "      <td>0.0</td>\n",
       "      <td>...</td>\n",
       "      <td>NaN</td>\n",
       "      <td>vnacrewit@gmail.com</td>\n",
       "      <td>Aug 9, 2019</td>\n",
       "      <td>Aug 19, 2019</td>\n",
       "      <td>Everyone</td>\n",
       "      <td>https://www.vietnamairlines.com/vn/en/terms-an...</td>\n",
       "      <td>False</td>\n",
       "      <td>False</td>\n",
       "      <td>False</td>\n",
       "      <td>2021-06-15 20:19:35</td>\n",
       "    </tr>\n",
       "    <tr>\n",
       "      <th>3</th>\n",
       "      <td>Smart City Trichy Public Service Vehicles 17UC...</td>\n",
       "      <td>cst.stJoseph.ug17ucs548</td>\n",
       "      <td>Communication</td>\n",
       "      <td>5.0</td>\n",
       "      <td>5.0</td>\n",
       "      <td>10+</td>\n",
       "      <td>10.0</td>\n",
       "      <td>19</td>\n",
       "      <td>True</td>\n",
       "      <td>0.0</td>\n",
       "      <td>...</td>\n",
       "      <td>http://www.climatesmarttech.com/</td>\n",
       "      <td>climatesmarttech2@gmail.com</td>\n",
       "      <td>Sep 10, 2018</td>\n",
       "      <td>Oct 13, 2018</td>\n",
       "      <td>Everyone</td>\n",
       "      <td>NaN</td>\n",
       "      <td>True</td>\n",
       "      <td>False</td>\n",
       "      <td>False</td>\n",
       "      <td>2021-06-15 20:19:35</td>\n",
       "    </tr>\n",
       "    <tr>\n",
       "      <th>4</th>\n",
       "      <td>GROW.me</td>\n",
       "      <td>com.horodyski.grower</td>\n",
       "      <td>Tools</td>\n",
       "      <td>0.0</td>\n",
       "      <td>0.0</td>\n",
       "      <td>100+</td>\n",
       "      <td>100.0</td>\n",
       "      <td>478</td>\n",
       "      <td>True</td>\n",
       "      <td>0.0</td>\n",
       "      <td>...</td>\n",
       "      <td>http://www.horodyski.com.pl</td>\n",
       "      <td>rmilekhorodyski@gmail.com</td>\n",
       "      <td>Feb 21, 2020</td>\n",
       "      <td>Nov 12, 2018</td>\n",
       "      <td>Everyone</td>\n",
       "      <td>http://www.horodyski.com.pl</td>\n",
       "      <td>False</td>\n",
       "      <td>False</td>\n",
       "      <td>False</td>\n",
       "      <td>2021-06-15 20:19:35</td>\n",
       "    </tr>\n",
       "  </tbody>\n",
       "</table>\n",
       "<p>5 rows × 24 columns</p>\n",
       "</div>"
      ],
      "text/plain": [
       "                                            App Name  \\\n",
       "0                                            Gakondo   \n",
       "1                                Ampere Battery Info   \n",
       "2                                             Vibook   \n",
       "3  Smart City Trichy Public Service Vehicles 17UC...   \n",
       "4                                            GROW.me   \n",
       "\n",
       "                       App Id       Category  Rating  Rating Count Installs  \\\n",
       "0         com.ishakwe.gakondo      Adventure     0.0           0.0      10+   \n",
       "1  com.webserveis.batteryinfo          Tools     4.4          64.0   5,000+   \n",
       "2        com.doantiepvien.crm   Productivity     0.0           0.0      50+   \n",
       "3     cst.stJoseph.ug17ucs548  Communication     5.0           5.0      10+   \n",
       "4        com.horodyski.grower          Tools     0.0           0.0     100+   \n",
       "\n",
       "   Minimum Installs  Maximum Installs  Free  Price  ...  \\\n",
       "0              10.0                15  True    0.0  ...   \n",
       "1            5000.0              7662  True    0.0  ...   \n",
       "2              50.0                58  True    0.0  ...   \n",
       "3              10.0                19  True    0.0  ...   \n",
       "4             100.0               478  True    0.0  ...   \n",
       "\n",
       "                  Developer Website              Developer Email  \\\n",
       "0       https://beniyizibyose.tk/#/       jean21101999@gmail.com   \n",
       "1   https://webserveis.netlify.app/         webserveis@gmail.com   \n",
       "2                               NaN          vnacrewit@gmail.com   \n",
       "3  http://www.climatesmarttech.com/  climatesmarttech2@gmail.com   \n",
       "4       http://www.horodyski.com.pl    rmilekhorodyski@gmail.com   \n",
       "\n",
       "       Released  Last Updated Content Rating  \\\n",
       "0  Feb 26, 2020  Feb 26, 2020       Everyone   \n",
       "1  May 21, 2020  May 06, 2021       Everyone   \n",
       "2   Aug 9, 2019  Aug 19, 2019       Everyone   \n",
       "3  Sep 10, 2018  Oct 13, 2018       Everyone   \n",
       "4  Feb 21, 2020  Nov 12, 2018       Everyone   \n",
       "\n",
       "                                      Privacy Policy Ad Supported  \\\n",
       "0                 https://beniyizibyose.tk/projects/        False   \n",
       "1  https://dev4phones.wordpress.com/licencia-de-uso/         True   \n",
       "2  https://www.vietnamairlines.com/vn/en/terms-an...        False   \n",
       "3                                                NaN         True   \n",
       "4                        http://www.horodyski.com.pl        False   \n",
       "\n",
       "  In App Purchases Editors Choice         Scraped Time  \n",
       "0            False          False  2021-06-15 20:19:35  \n",
       "1            False          False  2021-06-15 20:19:35  \n",
       "2            False          False  2021-06-15 20:19:35  \n",
       "3            False          False  2021-06-15 20:19:35  \n",
       "4            False          False  2021-06-15 20:19:35  \n",
       "\n",
       "[5 rows x 24 columns]"
      ]
     },
     "execution_count": 3,
     "metadata": {},
     "output_type": "execute_result"
    }
   ],
   "source": [
    "psdata.head(5)"
   ]
  },
  {
   "cell_type": "code",
   "execution_count": 4,
   "id": "8e48d765",
   "metadata": {},
   "outputs": [
    {
     "name": "stdout",
     "output_type": "stream",
     "text": [
      "<class 'pandas.core.frame.DataFrame'>\n",
      "RangeIndex: 2312944 entries, 0 to 2312943\n",
      "Data columns (total 24 columns):\n",
      " #   Column             Non-Null Count    Dtype  \n",
      "---  ------             --------------    -----  \n",
      " 0   App Name           2312939 non-null  object \n",
      " 1   App Id             2312944 non-null  object \n",
      " 2   Category           2312944 non-null  object \n",
      " 3   Rating             2290061 non-null  float64\n",
      " 4   Rating Count       2290061 non-null  float64\n",
      " 5   Installs           2312837 non-null  object \n",
      " 6   Minimum Installs   2312837 non-null  float64\n",
      " 7   Maximum Installs   2312944 non-null  int64  \n",
      " 8   Free               2312944 non-null  bool   \n",
      " 9   Price              2312944 non-null  float64\n",
      " 10  Currency           2312809 non-null  object \n",
      " 11  Size               2312748 non-null  object \n",
      " 12  Minimum Android    2306414 non-null  object \n",
      " 13  Developer Id       2312911 non-null  object \n",
      " 14  Developer Website  1552109 non-null  object \n",
      " 15  Developer Email    2312913 non-null  object \n",
      " 16  Released           2241891 non-null  object \n",
      " 17  Last Updated       2312944 non-null  object \n",
      " 18  Content Rating     2312944 non-null  object \n",
      " 19  Privacy Policy     1891991 non-null  object \n",
      " 20  Ad Supported       2312944 non-null  bool   \n",
      " 21  In App Purchases   2312944 non-null  bool   \n",
      " 22  Editors Choice     2312944 non-null  bool   \n",
      " 23  Scraped Time       2312944 non-null  object \n",
      "dtypes: bool(4), float64(4), int64(1), object(15)\n",
      "memory usage: 361.8+ MB\n"
     ]
    }
   ],
   "source": [
    "psdata.info(show_counts=True)"
   ]
  },
  {
   "cell_type": "markdown",
   "id": "ed568b57",
   "metadata": {},
   "source": []
  },
  {
   "cell_type": "markdown",
   "id": "93ec13a9",
   "metadata": {},
   "source": [
    "### Data Cleaning"
   ]
  },
  {
   "cell_type": "markdown",
   "id": "8ff7722a",
   "metadata": {},
   "source": [
    "#### Identifing Null values"
   ]
  },
  {
   "cell_type": "code",
   "execution_count": 5,
   "id": "7f409b63",
   "metadata": {},
   "outputs": [
    {
     "data": {
      "text/plain": [
       "App Name              0.000216\n",
       "App Id                0.000000\n",
       "Category              0.000000\n",
       "Rating                0.989345\n",
       "Rating Count          0.989345\n",
       "Installs              0.004626\n",
       "Minimum Installs      0.004626\n",
       "Maximum Installs      0.000000\n",
       "Free                  0.000000\n",
       "Price                 0.000000\n",
       "Currency              0.005837\n",
       "Size                  0.008474\n",
       "Minimum Android       0.282324\n",
       "Developer Id          0.001427\n",
       "Developer Website    32.894657\n",
       "Developer Email       0.001340\n",
       "Released              3.071972\n",
       "Last Updated          0.000000\n",
       "Content Rating        0.000000\n",
       "Privacy Policy       18.199879\n",
       "Ad Supported          0.000000\n",
       "In App Purchases      0.000000\n",
       "Editors Choice        0.000000\n",
       "Scraped Time          0.000000\n",
       "dtype: float64"
      ]
     },
     "execution_count": 5,
     "metadata": {},
     "output_type": "execute_result"
    }
   ],
   "source": [
    "psdata.isnull().sum()*(100/2312944)"
   ]
  },
  {
   "cell_type": "markdown",
   "id": "b8d8576c",
   "metadata": {},
   "source": [
    "- #### Except Developer Website (32.894657 % nulls) and Privacy Policy ( 18.199879 % nulls), all other null rows shall be dropped"
   ]
  },
  {
   "cell_type": "code",
   "execution_count": 6,
   "id": "904e9bc9",
   "metadata": {},
   "outputs": [
    {
     "name": "stdout",
     "output_type": "stream",
     "text": [
      "<class 'pandas.core.frame.DataFrame'>\n",
      "RangeIndex: 2312944 entries, 0 to 2312943\n",
      "Data columns (total 22 columns):\n",
      " #   Column            Dtype  \n",
      "---  ------            -----  \n",
      " 0   App Name          object \n",
      " 1   App Id            object \n",
      " 2   Category          object \n",
      " 3   Rating            float64\n",
      " 4   Rating Count      float64\n",
      " 5   Installs          object \n",
      " 6   Minimum Installs  float64\n",
      " 7   Maximum Installs  int64  \n",
      " 8   Free              bool   \n",
      " 9   Price             float64\n",
      " 10  Currency          object \n",
      " 11  Size              object \n",
      " 12  Minimum Android   object \n",
      " 13  Developer Id      object \n",
      " 14  Developer Email   object \n",
      " 15  Released          object \n",
      " 16  Last Updated      object \n",
      " 17  Content Rating    object \n",
      " 18  Ad Supported      bool   \n",
      " 19  In App Purchases  bool   \n",
      " 20  Editors Choice    bool   \n",
      " 21  Scraped Time      object \n",
      "dtypes: bool(4), float64(4), int64(1), object(13)\n",
      "memory usage: 326.5+ MB\n"
     ]
    }
   ],
   "source": [
    "l=[ _ for _ in psdata.columns if _ not in ['Privacy Policy','Developer Website']]\n",
    "psdata[l].info()"
   ]
  },
  {
   "cell_type": "code",
   "execution_count": 7,
   "id": "c1589020",
   "metadata": {},
   "outputs": [
    {
     "data": {
      "text/plain": [
       "False    2235250\n",
       "True       77694\n",
       "Name: count, dtype: int64"
      ]
     },
     "execution_count": 7,
     "metadata": {},
     "output_type": "execute_result"
    }
   ],
   "source": [
    "psdata[l].isnull().any(axis=1).value_counts()"
   ]
  },
  {
   "cell_type": "markdown",
   "id": "edcb07f0",
   "metadata": {},
   "source": [
    "### Percentage of rows to be removed :"
   ]
  },
  {
   "cell_type": "code",
   "execution_count": 8,
   "id": "b4ba2786",
   "metadata": {},
   "outputs": [
    {
     "data": {
      "text/plain": [
       "3.359095594186457"
      ]
     },
     "execution_count": 8,
     "metadata": {},
     "output_type": "execute_result"
    }
   ],
   "source": [
    "100* psdata[l].isnull().any(axis=1).value_counts()[1]/len(psdata[l])"
   ]
  },
  {
   "cell_type": "code",
   "execution_count": 9,
   "id": "d20a3eec",
   "metadata": {},
   "outputs": [
    {
     "data": {
      "text/plain": [
       "0          False\n",
       "1          False\n",
       "2          False\n",
       "3          False\n",
       "4          False\n",
       "           ...  \n",
       "2312939     True\n",
       "2312940    False\n",
       "2312941    False\n",
       "2312942    False\n",
       "2312943    False\n",
       "Length: 2312944, dtype: bool"
      ]
     },
     "execution_count": 9,
     "metadata": {},
     "output_type": "execute_result"
    }
   ],
   "source": [
    "psdata[l].isnull().any(axis=1)"
   ]
  },
  {
   "cell_type": "code",
   "execution_count": 10,
   "id": "fb217e26",
   "metadata": {},
   "outputs": [
    {
     "data": {
      "text/html": [
       "<div>\n",
       "<style scoped>\n",
       "    .dataframe tbody tr th:only-of-type {\n",
       "        vertical-align: middle;\n",
       "    }\n",
       "\n",
       "    .dataframe tbody tr th {\n",
       "        vertical-align: top;\n",
       "    }\n",
       "\n",
       "    .dataframe thead th {\n",
       "        text-align: right;\n",
       "    }\n",
       "</style>\n",
       "<table border=\"1\" class=\"dataframe\">\n",
       "  <thead>\n",
       "    <tr style=\"text-align: right;\">\n",
       "      <th></th>\n",
       "      <th>App Name</th>\n",
       "      <th>App Id</th>\n",
       "      <th>Category</th>\n",
       "      <th>Rating</th>\n",
       "      <th>Rating Count</th>\n",
       "      <th>Installs</th>\n",
       "      <th>Minimum Installs</th>\n",
       "      <th>Maximum Installs</th>\n",
       "      <th>Free</th>\n",
       "      <th>Price</th>\n",
       "      <th>...</th>\n",
       "      <th>Developer Website</th>\n",
       "      <th>Developer Email</th>\n",
       "      <th>Released</th>\n",
       "      <th>Last Updated</th>\n",
       "      <th>Content Rating</th>\n",
       "      <th>Privacy Policy</th>\n",
       "      <th>Ad Supported</th>\n",
       "      <th>In App Purchases</th>\n",
       "      <th>Editors Choice</th>\n",
       "      <th>Scraped Time</th>\n",
       "    </tr>\n",
       "  </thead>\n",
       "  <tbody>\n",
       "    <tr>\n",
       "      <th>0</th>\n",
       "      <td>Gakondo</td>\n",
       "      <td>com.ishakwe.gakondo</td>\n",
       "      <td>Adventure</td>\n",
       "      <td>0.0</td>\n",
       "      <td>0.0</td>\n",
       "      <td>10+</td>\n",
       "      <td>10.0</td>\n",
       "      <td>15</td>\n",
       "      <td>True</td>\n",
       "      <td>0.0</td>\n",
       "      <td>...</td>\n",
       "      <td>https://beniyizibyose.tk/#/</td>\n",
       "      <td>jean21101999@gmail.com</td>\n",
       "      <td>Feb 26, 2020</td>\n",
       "      <td>Feb 26, 2020</td>\n",
       "      <td>Everyone</td>\n",
       "      <td>https://beniyizibyose.tk/projects/</td>\n",
       "      <td>False</td>\n",
       "      <td>False</td>\n",
       "      <td>False</td>\n",
       "      <td>2021-06-15 20:19:35</td>\n",
       "    </tr>\n",
       "    <tr>\n",
       "      <th>1</th>\n",
       "      <td>Ampere Battery Info</td>\n",
       "      <td>com.webserveis.batteryinfo</td>\n",
       "      <td>Tools</td>\n",
       "      <td>4.4</td>\n",
       "      <td>64.0</td>\n",
       "      <td>5,000+</td>\n",
       "      <td>5000.0</td>\n",
       "      <td>7662</td>\n",
       "      <td>True</td>\n",
       "      <td>0.0</td>\n",
       "      <td>...</td>\n",
       "      <td>https://webserveis.netlify.app/</td>\n",
       "      <td>webserveis@gmail.com</td>\n",
       "      <td>May 21, 2020</td>\n",
       "      <td>May 06, 2021</td>\n",
       "      <td>Everyone</td>\n",
       "      <td>https://dev4phones.wordpress.com/licencia-de-uso/</td>\n",
       "      <td>True</td>\n",
       "      <td>False</td>\n",
       "      <td>False</td>\n",
       "      <td>2021-06-15 20:19:35</td>\n",
       "    </tr>\n",
       "    <tr>\n",
       "      <th>2</th>\n",
       "      <td>Vibook</td>\n",
       "      <td>com.doantiepvien.crm</td>\n",
       "      <td>Productivity</td>\n",
       "      <td>0.0</td>\n",
       "      <td>0.0</td>\n",
       "      <td>50+</td>\n",
       "      <td>50.0</td>\n",
       "      <td>58</td>\n",
       "      <td>True</td>\n",
       "      <td>0.0</td>\n",
       "      <td>...</td>\n",
       "      <td>NaN</td>\n",
       "      <td>vnacrewit@gmail.com</td>\n",
       "      <td>Aug 9, 2019</td>\n",
       "      <td>Aug 19, 2019</td>\n",
       "      <td>Everyone</td>\n",
       "      <td>https://www.vietnamairlines.com/vn/en/terms-an...</td>\n",
       "      <td>False</td>\n",
       "      <td>False</td>\n",
       "      <td>False</td>\n",
       "      <td>2021-06-15 20:19:35</td>\n",
       "    </tr>\n",
       "    <tr>\n",
       "      <th>3</th>\n",
       "      <td>Smart City Trichy Public Service Vehicles 17UC...</td>\n",
       "      <td>cst.stJoseph.ug17ucs548</td>\n",
       "      <td>Communication</td>\n",
       "      <td>5.0</td>\n",
       "      <td>5.0</td>\n",
       "      <td>10+</td>\n",
       "      <td>10.0</td>\n",
       "      <td>19</td>\n",
       "      <td>True</td>\n",
       "      <td>0.0</td>\n",
       "      <td>...</td>\n",
       "      <td>http://www.climatesmarttech.com/</td>\n",
       "      <td>climatesmarttech2@gmail.com</td>\n",
       "      <td>Sep 10, 2018</td>\n",
       "      <td>Oct 13, 2018</td>\n",
       "      <td>Everyone</td>\n",
       "      <td>NaN</td>\n",
       "      <td>True</td>\n",
       "      <td>False</td>\n",
       "      <td>False</td>\n",
       "      <td>2021-06-15 20:19:35</td>\n",
       "    </tr>\n",
       "    <tr>\n",
       "      <th>4</th>\n",
       "      <td>GROW.me</td>\n",
       "      <td>com.horodyski.grower</td>\n",
       "      <td>Tools</td>\n",
       "      <td>0.0</td>\n",
       "      <td>0.0</td>\n",
       "      <td>100+</td>\n",
       "      <td>100.0</td>\n",
       "      <td>478</td>\n",
       "      <td>True</td>\n",
       "      <td>0.0</td>\n",
       "      <td>...</td>\n",
       "      <td>http://www.horodyski.com.pl</td>\n",
       "      <td>rmilekhorodyski@gmail.com</td>\n",
       "      <td>Feb 21, 2020</td>\n",
       "      <td>Nov 12, 2018</td>\n",
       "      <td>Everyone</td>\n",
       "      <td>http://www.horodyski.com.pl</td>\n",
       "      <td>False</td>\n",
       "      <td>False</td>\n",
       "      <td>False</td>\n",
       "      <td>2021-06-15 20:19:35</td>\n",
       "    </tr>\n",
       "  </tbody>\n",
       "</table>\n",
       "<p>5 rows × 24 columns</p>\n",
       "</div>"
      ],
      "text/plain": [
       "                                            App Name  \\\n",
       "0                                            Gakondo   \n",
       "1                                Ampere Battery Info   \n",
       "2                                             Vibook   \n",
       "3  Smart City Trichy Public Service Vehicles 17UC...   \n",
       "4                                            GROW.me   \n",
       "\n",
       "                       App Id       Category  Rating  Rating Count Installs  \\\n",
       "0         com.ishakwe.gakondo      Adventure     0.0           0.0      10+   \n",
       "1  com.webserveis.batteryinfo          Tools     4.4          64.0   5,000+   \n",
       "2        com.doantiepvien.crm   Productivity     0.0           0.0      50+   \n",
       "3     cst.stJoseph.ug17ucs548  Communication     5.0           5.0      10+   \n",
       "4        com.horodyski.grower          Tools     0.0           0.0     100+   \n",
       "\n",
       "   Minimum Installs  Maximum Installs  Free  Price  ...  \\\n",
       "0              10.0                15  True    0.0  ...   \n",
       "1            5000.0              7662  True    0.0  ...   \n",
       "2              50.0                58  True    0.0  ...   \n",
       "3              10.0                19  True    0.0  ...   \n",
       "4             100.0               478  True    0.0  ...   \n",
       "\n",
       "                  Developer Website              Developer Email  \\\n",
       "0       https://beniyizibyose.tk/#/       jean21101999@gmail.com   \n",
       "1   https://webserveis.netlify.app/         webserveis@gmail.com   \n",
       "2                               NaN          vnacrewit@gmail.com   \n",
       "3  http://www.climatesmarttech.com/  climatesmarttech2@gmail.com   \n",
       "4       http://www.horodyski.com.pl    rmilekhorodyski@gmail.com   \n",
       "\n",
       "       Released  Last Updated Content Rating  \\\n",
       "0  Feb 26, 2020  Feb 26, 2020       Everyone   \n",
       "1  May 21, 2020  May 06, 2021       Everyone   \n",
       "2   Aug 9, 2019  Aug 19, 2019       Everyone   \n",
       "3  Sep 10, 2018  Oct 13, 2018       Everyone   \n",
       "4  Feb 21, 2020  Nov 12, 2018       Everyone   \n",
       "\n",
       "                                      Privacy Policy Ad Supported  \\\n",
       "0                 https://beniyizibyose.tk/projects/        False   \n",
       "1  https://dev4phones.wordpress.com/licencia-de-uso/         True   \n",
       "2  https://www.vietnamairlines.com/vn/en/terms-an...        False   \n",
       "3                                                NaN         True   \n",
       "4                        http://www.horodyski.com.pl        False   \n",
       "\n",
       "  In App Purchases Editors Choice         Scraped Time  \n",
       "0            False          False  2021-06-15 20:19:35  \n",
       "1            False          False  2021-06-15 20:19:35  \n",
       "2            False          False  2021-06-15 20:19:35  \n",
       "3            False          False  2021-06-15 20:19:35  \n",
       "4            False          False  2021-06-15 20:19:35  \n",
       "\n",
       "[5 rows x 24 columns]"
      ]
     },
     "execution_count": 10,
     "metadata": {},
     "output_type": "execute_result"
    }
   ],
   "source": [
    "psdata_cleaned = psdata[~psdata[l].isnull().any(axis=1)]\n",
    "psdata_cleaned.head(5)"
   ]
  },
  {
   "cell_type": "code",
   "execution_count": 11,
   "id": "507e2d40",
   "metadata": {},
   "outputs": [
    {
     "name": "stdout",
     "output_type": "stream",
     "text": [
      "<class 'pandas.core.frame.DataFrame'>\n",
      "Index: 2235250 entries, 0 to 2312943\n",
      "Data columns (total 24 columns):\n",
      " #   Column             Dtype  \n",
      "---  ------             -----  \n",
      " 0   App Name           object \n",
      " 1   App Id             object \n",
      " 2   Category           object \n",
      " 3   Rating             float64\n",
      " 4   Rating Count       float64\n",
      " 5   Installs           object \n",
      " 6   Minimum Installs   float64\n",
      " 7   Maximum Installs   int64  \n",
      " 8   Free               bool   \n",
      " 9   Price              float64\n",
      " 10  Currency           object \n",
      " 11  Size               object \n",
      " 12  Minimum Android    object \n",
      " 13  Developer Id       object \n",
      " 14  Developer Website  object \n",
      " 15  Developer Email    object \n",
      " 16  Released           object \n",
      " 17  Last Updated       object \n",
      " 18  Content Rating     object \n",
      " 19  Privacy Policy     object \n",
      " 20  Ad Supported       bool   \n",
      " 21  In App Purchases   bool   \n",
      " 22  Editors Choice     bool   \n",
      " 23  Scraped Time       object \n",
      "dtypes: bool(4), float64(4), int64(1), object(15)\n",
      "memory usage: 366.7+ MB\n"
     ]
    }
   ],
   "source": [
    "psdata_cleaned.info()"
   ]
  },
  {
   "cell_type": "markdown",
   "id": "762db54a",
   "metadata": {},
   "source": [
    "### Checking null values :"
   ]
  },
  {
   "cell_type": "code",
   "execution_count": 12,
   "id": "0856781c",
   "metadata": {},
   "outputs": [
    {
     "data": {
      "text/plain": [
       "App Name                  0\n",
       "App Id                    0\n",
       "Category                  0\n",
       "Rating                    0\n",
       "Rating Count              0\n",
       "Installs                  0\n",
       "Minimum Installs          0\n",
       "Maximum Installs          0\n",
       "Free                      0\n",
       "Price                     0\n",
       "Currency                  0\n",
       "Size                      0\n",
       "Minimum Android           0\n",
       "Developer Id              0\n",
       "Developer Website    740562\n",
       "Developer Email           0\n",
       "Released                  0\n",
       "Last Updated              0\n",
       "Content Rating            0\n",
       "Privacy Policy       405439\n",
       "Ad Supported              0\n",
       "In App Purchases          0\n",
       "Editors Choice            0\n",
       "Scraped Time              0\n",
       "dtype: int64"
      ]
     },
     "execution_count": 12,
     "metadata": {},
     "output_type": "execute_result"
    }
   ],
   "source": [
    "psdata_cleaned.isna().sum()"
   ]
  },
  {
   "cell_type": "markdown",
   "id": "1c178c27",
   "metadata": {},
   "source": [
    "- #### As expected, every row has been cleaned ignoring columns 'Developer Website' and 'Privacy Policy' "
   ]
  },
  {
   "cell_type": "markdown",
   "id": "aabd1ecd",
   "metadata": {},
   "source": [
    "### checking for duplicates :"
   ]
  },
  {
   "cell_type": "code",
   "execution_count": 13,
   "id": "9f77512f",
   "metadata": {},
   "outputs": [
    {
     "data": {
      "text/plain": [
       "0"
      ]
     },
     "execution_count": 13,
     "metadata": {},
     "output_type": "execute_result"
    }
   ],
   "source": [
    "psdata_cleaned.duplicated().sum()"
   ]
  },
  {
   "cell_type": "markdown",
   "id": "0c3b4bc6",
   "metadata": {},
   "source": [
    "#### no duplicates found"
   ]
  },
  {
   "cell_type": "markdown",
   "id": "47209ae4",
   "metadata": {},
   "source": [
    " "
   ]
  },
  {
   "cell_type": "markdown",
   "id": "2278482b",
   "metadata": {},
   "source": [
    "## Data formatting : "
   ]
  },
  {
   "cell_type": "markdown",
   "id": "6fa7f701",
   "metadata": {},
   "source": [
    "### Resetting index and dropping old index"
   ]
  },
  {
   "cell_type": "code",
   "execution_count": 14,
   "id": "6da063c2",
   "metadata": {},
   "outputs": [],
   "source": [
    "psdata_cleaned.reset_index(inplace=True,drop=True)"
   ]
  },
  {
   "cell_type": "markdown",
   "id": "c2d332cc",
   "metadata": {},
   "source": [
    "### Formatting dates"
   ]
  },
  {
   "cell_type": "code",
   "execution_count": 15,
   "id": "aa6f91a9",
   "metadata": {},
   "outputs": [
    {
     "name": "stderr",
     "output_type": "stream",
     "text": [
      "C:\\Users\\Allo\\AppData\\Local\\Temp\\ipykernel_3160\\3226308707.py:1: SettingWithCopyWarning: \n",
      "A value is trying to be set on a copy of a slice from a DataFrame.\n",
      "Try using .loc[row_indexer,col_indexer] = value instead\n",
      "\n",
      "See the caveats in the documentation: https://pandas.pydata.org/pandas-docs/stable/user_guide/indexing.html#returning-a-view-versus-a-copy\n",
      "  psdata_cleaned['Released'] = pd.to_datetime(psdata_cleaned['Released'])\n"
     ]
    }
   ],
   "source": [
    "psdata_cleaned['Released'] = pd.to_datetime(psdata_cleaned['Released'])"
   ]
  },
  {
   "cell_type": "code",
   "execution_count": 16,
   "id": "fc6e0de4",
   "metadata": {},
   "outputs": [
    {
     "data": {
      "text/plain": [
       "0         2020-02-26\n",
       "1         2020-05-21\n",
       "2         2019-08-09\n",
       "3         2018-09-10\n",
       "4         2020-02-21\n",
       "             ...    \n",
       "2235245   2018-05-22\n",
       "2235246   2018-01-17\n",
       "2235247   2018-08-19\n",
       "2235248   2016-08-01\n",
       "2235249   2019-08-09\n",
       "Name: Released, Length: 2235250, dtype: datetime64[ns]"
      ]
     },
     "execution_count": 16,
     "metadata": {},
     "output_type": "execute_result"
    }
   ],
   "source": [
    "psdata_cleaned['Released']"
   ]
  },
  {
   "cell_type": "code",
   "execution_count": 17,
   "id": "42a509fe",
   "metadata": {},
   "outputs": [
    {
     "name": "stderr",
     "output_type": "stream",
     "text": [
      "C:\\Users\\Allo\\AppData\\Local\\Temp\\ipykernel_3160\\903406289.py:1: SettingWithCopyWarning: \n",
      "A value is trying to be set on a copy of a slice from a DataFrame.\n",
      "Try using .loc[row_indexer,col_indexer] = value instead\n",
      "\n",
      "See the caveats in the documentation: https://pandas.pydata.org/pandas-docs/stable/user_guide/indexing.html#returning-a-view-versus-a-copy\n",
      "  psdata_cleaned['Last Updated']=pd.to_datetime(psdata_cleaned['Last Updated'])\n"
     ]
    }
   ],
   "source": [
    "psdata_cleaned['Last Updated']=pd.to_datetime(psdata_cleaned['Last Updated'])"
   ]
  },
  {
   "cell_type": "code",
   "execution_count": 24,
   "id": "48387a06",
   "metadata": {},
   "outputs": [
    {
     "name": "stderr",
     "output_type": "stream",
     "text": [
      "C:\\Users\\Allo\\AppData\\Local\\Temp\\ipykernel_3160\\758096163.py:1: SettingWithCopyWarning: \n",
      "A value is trying to be set on a copy of a slice from a DataFrame.\n",
      "Try using .loc[row_indexer,col_indexer] = value instead\n",
      "\n",
      "See the caveats in the documentation: https://pandas.pydata.org/pandas-docs/stable/user_guide/indexing.html#returning-a-view-versus-a-copy\n",
      "  psdata_cleaned['Scraped Time'] = pd.to_datetime(psdata_cleaned['Scraped Time'])\n"
     ]
    }
   ],
   "source": [
    "\n",
    "psdata_cleaned['Scraped Time'] = pd.to_datetime(psdata_cleaned['Scraped Time'])"
   ]
  },
  {
   "cell_type": "code",
   "execution_count": 25,
   "id": "0852c01b",
   "metadata": {},
   "outputs": [
    {
     "name": "stdout",
     "output_type": "stream",
     "text": [
      "<class 'pandas.core.frame.DataFrame'>\n",
      "RangeIndex: 2235250 entries, 0 to 2235249\n",
      "Data columns (total 24 columns):\n",
      " #   Column             Dtype         \n",
      "---  ------             -----         \n",
      " 0   App Name           object        \n",
      " 1   App Id             object        \n",
      " 2   Category           object        \n",
      " 3   Rating             float64       \n",
      " 4   Rating Count       float64       \n",
      " 5   Installs           object        \n",
      " 6   Minimum Installs   float64       \n",
      " 7   Maximum Installs   int64         \n",
      " 8   Free               bool          \n",
      " 9   Price              float64       \n",
      " 10  Currency           object        \n",
      " 11  Size               object        \n",
      " 12  Minimum Android    object        \n",
      " 13  Developer Id       object        \n",
      " 14  Developer Website  object        \n",
      " 15  Developer Email    object        \n",
      " 16  Released           datetime64[ns]\n",
      " 17  Last Updated       datetime64[ns]\n",
      " 18  Content Rating     object        \n",
      " 19  Privacy Policy     object        \n",
      " 20  Ad Supported       bool          \n",
      " 21  In App Purchases   bool          \n",
      " 22  Editors Choice     bool          \n",
      " 23  Scraped Time       datetime64[ns]\n",
      "dtypes: bool(4), datetime64[ns](3), float64(4), int64(1), object(12)\n",
      "memory usage: 349.6+ MB\n"
     ]
    }
   ],
   "source": [
    "psdata_cleaned.info()"
   ]
  },
  {
   "cell_type": "code",
   "execution_count": null,
   "id": "4f0728f2",
   "metadata": {},
   "outputs": [],
   "source": []
  },
  {
   "cell_type": "code",
   "execution_count": null,
   "id": "fb1472a7",
   "metadata": {},
   "outputs": [],
   "source": []
  },
  {
   "cell_type": "markdown",
   "id": "9529e191",
   "metadata": {},
   "source": [
    "### Adding new Columns"
   ]
  },
  {
   "cell_type": "code",
   "execution_count": 26,
   "id": "776a2eb3",
   "metadata": {},
   "outputs": [
    {
     "name": "stderr",
     "output_type": "stream",
     "text": [
      "C:\\Users\\Allo\\AppData\\Local\\Temp\\ipykernel_3160\\2005866426.py:1: SettingWithCopyWarning: \n",
      "A value is trying to be set on a copy of a slice from a DataFrame.\n",
      "Try using .loc[row_indexer,col_indexer] = value instead\n",
      "\n",
      "See the caveats in the documentation: https://pandas.pydata.org/pandas-docs/stable/user_guide/indexing.html#returning-a-view-versus-a-copy\n",
      "  psdata_cleaned['period_after_release'] = psdata_cleaned['Scraped Time'] - psdata_cleaned['Released']\n"
     ]
    },
    {
     "data": {
      "text/plain": [
       "0          475 days\n",
       "1          390 days\n",
       "2          676 days\n",
       "3         1009 days\n",
       "4          480 days\n",
       "             ...   \n",
       "2235245   1121 days\n",
       "2235246   1246 days\n",
       "2235247   1032 days\n",
       "2235248   1780 days\n",
       "2235249    677 days\n",
       "Name: period_after_release, Length: 2235250, dtype: timedelta64[ns]"
      ]
     },
     "execution_count": 26,
     "metadata": {},
     "output_type": "execute_result"
    }
   ],
   "source": [
    "psdata_cleaned['period_after_release'] = psdata_cleaned['Scraped Time'] - psdata_cleaned['Released']\n",
    "\n",
    "psdata_cleaned['period_after_release']"
   ]
  },
  {
   "cell_type": "code",
   "execution_count": 27,
   "id": "55aec8a5",
   "metadata": {},
   "outputs": [
    {
     "data": {
      "text/plain": [
       "count                         2235250\n",
       "mean     1021 days 17:13:01.993602544\n",
       "std       773 days 18:04:41.735487880\n",
       "min                   0 days 00:00:00\n",
       "25%                 427 days 00:00:00\n",
       "50%                 819 days 00:00:00\n",
       "75%                1446 days 00:00:00\n",
       "max                4157 days 00:00:00\n",
       "Name: period_after_release, dtype: object"
      ]
     },
     "execution_count": 27,
     "metadata": {},
     "output_type": "execute_result"
    }
   ],
   "source": [
    "psdata_cleaned.period_after_release.describe()"
   ]
  },
  {
   "cell_type": "code",
   "execution_count": 28,
   "id": "09cfb202",
   "metadata": {},
   "outputs": [
    {
     "name": "stderr",
     "output_type": "stream",
     "text": [
      "C:\\Users\\Allo\\AppData\\Local\\Temp\\ipykernel_3160\\1929766014.py:1: SettingWithCopyWarning: \n",
      "A value is trying to be set on a copy of a slice from a DataFrame.\n",
      "Try using .loc[row_indexer,col_indexer] = value instead\n",
      "\n",
      "See the caveats in the documentation: https://pandas.pydata.org/pandas-docs/stable/user_guide/indexing.html#returning-a-view-versus-a-copy\n",
      "  psdata_cleaned['period_after_update'] = psdata_cleaned['Scraped Time'] - psdata_cleaned['Last Updated']\n"
     ]
    },
    {
     "data": {
      "text/plain": [
       "0          475 days\n",
       "1           40 days\n",
       "2          666 days\n",
       "3          976 days\n",
       "4          946 days\n",
       "             ...   \n",
       "2235245    915 days\n",
       "2235246   1230 days\n",
       "2235247   1032 days\n",
       "2235248     42 days\n",
       "2235249    667 days\n",
       "Name: period_after_update, Length: 2235250, dtype: timedelta64[ns]"
      ]
     },
     "execution_count": 28,
     "metadata": {},
     "output_type": "execute_result"
    }
   ],
   "source": [
    "psdata_cleaned['period_after_update'] = psdata_cleaned['Scraped Time'] - psdata_cleaned['Last Updated']\n",
    "psdata_cleaned['period_after_update']"
   ]
  },
  {
   "cell_type": "code",
   "execution_count": 29,
   "id": "39164afd",
   "metadata": {},
   "outputs": [
    {
     "data": {
      "text/plain": [
       "count                        2235250\n",
       "mean     560 days 03:47:10.578414080\n",
       "std      556 days 04:44:17.939184696\n",
       "min                  0 days 00:00:00\n",
       "25%                132 days 00:00:00\n",
       "50%                398 days 00:00:00\n",
       "75%                793 days 00:00:00\n",
       "max               4510 days 00:00:00\n",
       "Name: period_after_update, dtype: object"
      ]
     },
     "execution_count": 29,
     "metadata": {},
     "output_type": "execute_result"
    }
   ],
   "source": [
    "psdata_cleaned.period_after_update.describe()"
   ]
  },
  {
   "cell_type": "markdown",
   "id": "28c59187",
   "metadata": {},
   "source": [
    "### Formatting the 'Installs' Column :"
   ]
  },
  {
   "cell_type": "code",
   "execution_count": 31,
   "id": "7ff8a909",
   "metadata": {},
   "outputs": [
    {
     "name": "stderr",
     "output_type": "stream",
     "text": [
      "C:\\Users\\Allo\\AppData\\Local\\Temp\\ipykernel_3160\\3315530499.py:1: SettingWithCopyWarning: \n",
      "A value is trying to be set on a copy of a slice from a DataFrame.\n",
      "Try using .loc[row_indexer,col_indexer] = value instead\n",
      "\n",
      "See the caveats in the documentation: https://pandas.pydata.org/pandas-docs/stable/user_guide/indexing.html#returning-a-view-versus-a-copy\n",
      "  psdata_cleaned.Installs = psdata_cleaned.Installs.str.replace(',','').str.strip('+').astype('int64')\n"
     ]
    }
   ],
   "source": [
    "psdata_cleaned.Installs = psdata_cleaned.Installs.str.replace(',','').str.strip('+').astype('int64')\n"
   ]
  },
  {
   "cell_type": "code",
   "execution_count": 61,
   "id": "25defc68",
   "metadata": {},
   "outputs": [
    {
     "data": {
      "text/plain": [
       "count    2.235250e+06\n",
       "mean     1.760321e+05\n",
       "std      1.420412e+07\n",
       "min      0.000000e+00\n",
       "25%      5.000000e+01\n",
       "50%      5.000000e+02\n",
       "75%      5.000000e+03\n",
       "max      1.000000e+10\n",
       "Name: Installs, dtype: float64"
      ]
     },
     "execution_count": 61,
     "metadata": {},
     "output_type": "execute_result"
    }
   ],
   "source": [
    "psdata_cleaned.Installs.describe()"
   ]
  },
  {
   "cell_type": "markdown",
   "id": "03b37c0b",
   "metadata": {},
   "source": [
    "### Filtering data with repect to currency\n"
   ]
  },
  {
   "cell_type": "code",
   "execution_count": 59,
   "id": "50ed0916",
   "metadata": {},
   "outputs": [
    {
     "data": {
      "text/plain": [
       "Currency\n",
       "USD    100.0\n",
       "Name: count, dtype: float64"
      ]
     },
     "execution_count": 59,
     "metadata": {},
     "output_type": "execute_result"
    }
   ],
   "source": [
    "100 * psdata_cleaned.Currency.value_counts()/len(psdata_cleaned)"
   ]
  },
  {
   "cell_type": "markdown",
   "id": "f5ad6777",
   "metadata": {},
   "source": [
    "- #### 100% of the cleaned data has'USD' as currency"
   ]
  },
  {
   "cell_type": "markdown",
   "id": "52495e42",
   "metadata": {},
   "source": [
    "## Exporting data for Analysis Phase"
   ]
  },
  {
   "cell_type": "code",
   "execution_count": 1,
   "id": "518dc3ce",
   "metadata": {},
   "outputs": [],
   "source": [
    "#psdata_cleaned.to_csv('psdata_cleaned.csv', header=True, index=False)"
   ]
  },
  {
   "cell_type": "code",
   "execution_count": null,
   "id": "74e709fb",
   "metadata": {},
   "outputs": [],
   "source": []
  },
  {
   "cell_type": "code",
   "execution_count": null,
   "id": "e861e223",
   "metadata": {},
   "outputs": [],
   "source": []
  },
  {
   "cell_type": "code",
   "execution_count": null,
   "id": "629d11fa",
   "metadata": {},
   "outputs": [],
   "source": []
  }
 ],
 "metadata": {
  "kernelspec": {
   "display_name": "Python 3 (ipykernel)",
   "language": "python",
   "name": "python3"
  },
  "language_info": {
   "codemirror_mode": {
    "name": "ipython",
    "version": 3
   },
   "file_extension": ".py",
   "mimetype": "text/x-python",
   "name": "python",
   "nbconvert_exporter": "python",
   "pygments_lexer": "ipython3",
   "version": "3.11.5"
  }
 },
 "nbformat": 4,
 "nbformat_minor": 5
}
